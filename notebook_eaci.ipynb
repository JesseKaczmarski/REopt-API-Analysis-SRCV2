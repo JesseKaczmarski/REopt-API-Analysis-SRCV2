{
 "cells": [
  {
   "cell_type": "markdown",
   "metadata": {},
   "source": [
    "# Run a REopt API evaluation"
   ]
  },
  {
   "cell_type": "markdown",
   "metadata": {},
   "source": [
    "## Initialization"
   ]
  },
  {
   "cell_type": "code",
   "execution_count": 8,
   "metadata": {},
   "outputs": [],
   "source": [
    "import pandas as pd\n",
    "import numpy as np\n",
    "import json\n",
    "import requests\n",
    "import copy\n",
    "import os\n",
    "from src.post_and_poll import get_api_results\n",
    "API_KEY = 'uiMp56xYMT983T2OikI0RrEKAyAAEDpZHzuC8nTC'  # REPLACE WITH YOUR API KEY"
   ]
  },
  {
   "cell_type": "code",
   "execution_count": 9,
   "metadata": {},
   "outputs": [],
   "source": [
    "# following is not necessary but silences warnings:\n",
    "# InsecureRequestWarning: Unverified HTTPS request is being made to host 'developer.nrel.gov'. Adding certificate verification is strongly advised.\n",
    "import urllib3\n",
    "urllib3.disable_warnings()"
   ]
  },
  {
   "cell_type": "code",
   "execution_count": 10,
   "metadata": {},
   "outputs": [],
   "source": [
    "\"\"\"\n",
    "Here are some convenience definitions for using the Multi-scenario capabilities\n",
    "\"\"\"\n",
    "##############################################################################################################\n",
    "inputs_path = os.path.join(\".\", 'inputs')\n",
    "outputs_path = os.path.join(\".\", 'outputs')\n",
    "loads_path = os.path.join(\".\", 'load_profiles')\n",
    "rates_path = os.path.join(\".\", 'electric_rates')\n",
    "##############################################################################################################"
   ]
  },
  {
   "cell_type": "markdown",
   "metadata": {},
   "source": [
    "## Load a previously saved API response .json file instead of running REopt"
   ]
  },
  {
   "cell_type": "code",
   "execution_count": 4,
   "metadata": {},
   "outputs": [],
   "source": [
    "response_json = 'results'\n",
    "with open(os.path.join(outputs_path, response_json + '.json'), 'rb') as handle:\n",
    "    api_response = json.load(handle)"
   ]
  },
  {
   "cell_type": "markdown",
   "metadata": {},
   "source": [
    "## Scenario Inputs (POST), if wanting to do a new API call"
   ]
  },
  {
   "cell_type": "code",
   "execution_count": 57,
   "metadata": {},
   "outputs": [],
   "source": [
    "post_1 = {\"Scenario\": {\n",
    "    \"optimality_tolerance_techs\": 0.001,\n",
    "    \"Site\": {\n",
    "        \"longitude\": -106.5527591,\n",
    "        \"latitude\": 35.0488506,\n",
    "        \"land_acres\": 1.0e6,\n",
    "        \"roof_squarefeet\": 1.0e9,\n",
    "        # \"renewable_electricity_min_pct\": 0.0,\n",
    "        # \"renewable_electricity_max_pct\": 0.0,\n",
    "        # \"co2_emissions_reduction_min_pct\": None,\n",
    "        # \"co2_emissions_reduction_max_pct\": None, # even if None or 1.0, this will trigger emissions constraints\n",
    "        \"off_grid_flag\": False,\n",
    "        \"include_climate_in_objective\": False,\n",
    "        \"LoadProfile\": {\n",
    "            \"loads_kw\": [],  # Populated below\n",
    "            \"critical_load_pct\": 1.0,  # Modeling all load = critical load\n",
    "            # \"critical_loads_kw\": [],  # Not needed, using loads_kw and critical_load_pct = 1.0\n",
    "            # \"outage_start_time_step\": 5000,  # defined below\n",
    "            # \"outage_end_time_step\": 5000 + 168*2,  # defined below\n",
    "            \"outage_is_major_event\": True,  # Not used in the optimization, only for value of lost load\n",
    "            \"year\": 2017,  # Consistent with using CRB's which we pre-process and combine into an aggregated load below\n",
    "        },\n",
    "        \"ElectricTariff\": {\n",
    "            \"blended_annual_rates_us_dollars_per_kwh\": 0.04,\n",
    "            \"blended_annual_demand_charges_us_dollars_per_kw\": 0.0,\n",
    "            \"wholesale_rate_us_dollars_per_kwh\": 0.04\n",
    "        },\n",
    "        \"Generator\": {\n",
    "            \"min_kw\": 0.0,        \n",
    "            \"max_kw\": 1000000000.0,\n",
    "            \"diesel_fuel_cost_us_dollars_per_gallon\": 3.0,        \n",
    "            \"installed_cost_us_dollars_per_kw\": 800.0,  # From Jimmy\n",
    "            \"om_cost_us_dollars_per_kw\": 20.0,\n",
    "            \"om_cost_us_dollars_per_kwh\": 0.0,        \n",
    "            \"fuel_slope_gal_per_kwh\": 0.08217,  # 30% HHV efficiency \n",
    "            \"fuel_intercept_gal_per_hr\": 0.0,\n",
    "            \"fuel_avail_gal\": 1000000.0,\n",
    "            \"min_turn_down_pct\": 0.1,\n",
    "            \"existing_kw\": 0.0,\n",
    "            \"generator_only_runs_during_grid_outage\": True,\n",
    "            \"generator_sells_energy_back_to_grid\": False,\n",
    "            \"macrs_option_years\": 0,\n",
    "            \"macrs_bonus_pct\": 0.0,\n",
    "        },      \n",
    "        \"PV\": {\n",
    "            \"installed_cost_us_dollars_per_kw\": 1256.0,  # From Dan's analysis, NOT From Jimmy, ATB 2021\n",
    "            \"om_cost_us_dollars_per_kw\": 22.0,  # From Dan's analysis, NOT REopt default, ATB 2020\n",
    "            \"array_type\": 2,\n",
    "            \"federal_itc_pct\": 0.0,\n",
    "            \"macrs_option_years\": 0,\n",
    "            \"macrs_bonus_pct\": 0.0,\n",
    "            \"macrs_itc_reduction\": 0.0\n",
    "        },\n",
    "        \"Wind\": {\n",
    "            \"max_kw\": 1.0e6,\n",
    "            \"installed_cost_us_dollars_per_kw\": 1437.0,  # From Jimmy, ATB 2021\n",
    "            \"om_cost_us_dollars_per_kw\": 40.0,  # REopt default\n",
    "            \"federal_itc_pct\": 0.0,\n",
    "            \"macrs_option_years\": 0,\n",
    "            \"macrs_bonus_pct\": 0.0,\n",
    "            \"macrs_itc_reduction\": 0.0            \n",
    "        },\n",
    "        \"Storage\": {\n",
    "            \"installed_cost_us_dollars_per_kw\": 406.0,  # From Dan's analysis, NOT From Jimmy, ATB 2021 UTILITY SCALE SEEMS WAY LOW\n",
    "            \"installed_cost_us_dollars_per_kwh\": 197.0,  # From Dan's analysis, NOT From Jimmy, ATB 2021 UTILITY SCALE\n",
    "            \"replace_cost_us_dollars_per_kw\": 406/2.0,  # Assume half cost for inverter replacement\n",
    "            \"replace_cost_us_dollars_per_kwh\": 197.0/2.0,  # Assume half cost for battery pack replacement\n",
    "            \"can_grid_charge\": True,\n",
    "            \"macrs_option_years\": 0,\n",
    "            \"macrs_bonus_pct\": 0.0,\n",
    "            \"macrs_itc_reduction\": 0.0,\n",
    "            \"total_itc_pct\": 0,\n",
    "        },\n",
    "        \"Financial\": {\n",
    "            \"om_cost_escalation_pct\": 0.0,\n",
    "            \"escalation_pct\": 0.0,\n",
    "            \"generator_fuel_escalation_pct\": 0.0,\n",
    "            \"offtaker_tax_pct\": 0.0,\n",
    "            \"offtaker_discount_pct\": 0.03,\n",
    "            \"analysis_years\": 25,\n",
    "            \"co2_cost_us_dollars_per_tonne\": 0.0  # Only used if Site.include_climate_in_objective = True\n",
    "        }\n",
    "}}}"
   ]
  },
  {
   "cell_type": "markdown",
   "metadata": {},
   "source": [
    "### Load in EACI (cricital) load data for Kirtland microgrid"
   ]
  },
  {
   "cell_type": "code",
   "execution_count": 16,
   "metadata": {},
   "outputs": [],
   "source": [
    "load_data_monthly = pd.read_excel('./load_profiles/INCOMPLETE_MG5_LoadMonthlyEnergyData_ProfileTypes_2019_JEQ_02222022.xlsx', index_col=0)"
   ]
  },
  {
   "cell_type": "code",
   "execution_count": 17,
   "metadata": {},
   "outputs": [
    {
     "data": {
      "text/html": [
       "<div>\n",
       "<style scoped>\n",
       "    .dataframe tbody tr th:only-of-type {\n",
       "        vertical-align: middle;\n",
       "    }\n",
       "\n",
       "    .dataframe tbody tr th {\n",
       "        vertical-align: top;\n",
       "    }\n",
       "\n",
       "    .dataframe thead th {\n",
       "        text-align: right;\n",
       "    }\n",
       "</style>\n",
       "<table border=\"1\" class=\"dataframe\">\n",
       "  <thead>\n",
       "    <tr style=\"text-align: right;\">\n",
       "      <th></th>\n",
       "      <th>20245</th>\n",
       "      <th>20202</th>\n",
       "      <th>20332</th>\n",
       "      <th>20201</th>\n",
       "      <th>20210</th>\n",
       "      <th>21002</th>\n",
       "      <th>20130</th>\n",
       "      <th>20203</th>\n",
       "      <th>20200</th>\n",
       "      <th>20325</th>\n",
       "      <th>20129</th>\n",
       "      <th>20107</th>\n",
       "      <th>20206</th>\n",
       "    </tr>\n",
       "  </thead>\n",
       "  <tbody>\n",
       "    <tr>\n",
       "      <th>Type</th>\n",
       "      <td>MediumOffice</td>\n",
       "      <td>FlatLoad_16_7</td>\n",
       "      <td>FlatLoad_16_7</td>\n",
       "      <td>SmallOffice</td>\n",
       "      <td>FlatLoad</td>\n",
       "      <td>FlatLoad</td>\n",
       "      <td>MediumOffice</td>\n",
       "      <td>MediumOffice</td>\n",
       "      <td>SmallOffice</td>\n",
       "      <td>FlatLoad</td>\n",
       "      <td>FlatLoad_8_5</td>\n",
       "      <td>FlatLoad_8_7</td>\n",
       "      <td>RetailStore</td>\n",
       "    </tr>\n",
       "    <tr>\n",
       "      <th>1</th>\n",
       "      <td>56340</td>\n",
       "      <td>70280</td>\n",
       "      <td>92400</td>\n",
       "      <td>0</td>\n",
       "      <td>16880</td>\n",
       "      <td>7289</td>\n",
       "      <td>64440</td>\n",
       "      <td>34440</td>\n",
       "      <td>40080</td>\n",
       "      <td>40360</td>\n",
       "      <td>62880</td>\n",
       "      <td>6180</td>\n",
       "      <td>2600</td>\n",
       "    </tr>\n",
       "    <tr>\n",
       "      <th>2</th>\n",
       "      <td>53640</td>\n",
       "      <td>50920</td>\n",
       "      <td>86400</td>\n",
       "      <td>0</td>\n",
       "      <td>13720</td>\n",
       "      <td>5188</td>\n",
       "      <td>58640</td>\n",
       "      <td>33400</td>\n",
       "      <td>33760</td>\n",
       "      <td>35400</td>\n",
       "      <td>56160</td>\n",
       "      <td>5280</td>\n",
       "      <td>2200</td>\n",
       "    </tr>\n",
       "  </tbody>\n",
       "</table>\n",
       "</div>"
      ],
      "text/plain": [
       "             20245          20202          20332        20201     20210  \\\n",
       "Type  MediumOffice  FlatLoad_16_7  FlatLoad_16_7  SmallOffice  FlatLoad   \n",
       "1            56340          70280          92400            0     16880   \n",
       "2            53640          50920          86400            0     13720   \n",
       "\n",
       "         21002         20130         20203        20200     20325  \\\n",
       "Type  FlatLoad  MediumOffice  MediumOffice  SmallOffice  FlatLoad   \n",
       "1         7289         64440         34440        40080     40360   \n",
       "2         5188         58640         33400        33760     35400   \n",
       "\n",
       "             20129         20107        20206  \n",
       "Type  FlatLoad_8_5  FlatLoad_8_7  RetailStore  \n",
       "1            62880          6180         2600  \n",
       "2            56160          5280         2200  "
      ]
     },
     "execution_count": 17,
     "metadata": {},
     "output_type": "execute_result"
    }
   ],
   "source": [
    "load_data_monthly.head(3)"
   ]
  },
  {
   "cell_type": "code",
   "execution_count": 18,
   "metadata": {},
   "outputs": [
    {
     "data": {
      "text/plain": [
       "'MediumOffice'"
      ]
     },
     "execution_count": 18,
     "metadata": {},
     "output_type": "execute_result"
    }
   ],
   "source": [
    "load_data_monthly[\"20245\"][\"Type\"]"
   ]
  },
  {
   "cell_type": "code",
   "execution_count": 75,
   "metadata": {},
   "outputs": [],
   "source": [
    "root_url = \"https://developer.nrel.gov/api/reopt/v1/\"\n",
    "endpoint = \"simulated_load\"\n",
    "api_url = root_url + endpoint + '/?api_key=' + API_KEY\n",
    "building_load_profiles = {}\n",
    "for building in load_data_monthly.columns:\n",
    "    data = load_data_monthly[building]\n",
    "    resp = requests.get(url=api_url, verify=False, params={\n",
    "            'load_type': \"electric\",\n",
    "            'doe_reference_name': data[\"Type\"],\n",
    "            'monthly_totals_kwh[0]': data[1],\n",
    "            'monthly_totals_kwh[1]': data[2],\n",
    "            'monthly_totals_kwh[2]': data[3],\n",
    "            'monthly_totals_kwh[3]': data[4],\n",
    "            'monthly_totals_kwh[4]': data[5],\n",
    "            'monthly_totals_kwh[5]': data[6],\n",
    "            'monthly_totals_kwh[6]': data[7],\n",
    "            'monthly_totals_kwh[7]': data[8],\n",
    "            'monthly_totals_kwh[8]': data[9],\n",
    "            'monthly_totals_kwh[9]': data[10],\n",
    "            'monthly_totals_kwh[10]': data[11],\n",
    "            'monthly_totals_kwh[11]': data[12],\n",
    "            # 'doe_reference_name[0]': bldg[0],\n",
    "            # 'doe_reference_name[1]': bldg[1],\n",
    "            # 'percent_share[0]': percent_share[0],\n",
    "            # 'percent_share[1]': percent_share[1],\n",
    "            'latitude': post_1[\"Scenario\"][\"Site\"][\"latitude\"],\n",
    "            'longitude': post_1[\"Scenario\"][\"Site\"][\"longitude\"]\n",
    "        })\n",
    "    building_load_data = json.loads(resp.text)\n",
    "    building_load_profiles[building] = building_load_data[\"loads_kw\"]"
   ]
  },
  {
   "cell_type": "code",
   "execution_count": 76,
   "metadata": {},
   "outputs": [],
   "source": [
    "building_load_profiles[\"all\"] = np.zeros(8760)\n",
    "for building in load_data_monthly.columns:\n",
    "    building_load_profiles[\"all\"] = building_load_profiles[\"all\"] + np.array(building_load_profiles[building])\n",
    "building_load_profiles[\"all\"] = list(building_load_profiles[\"all\"])\n",
    "building_load_profiles_df = pd.DataFrame.from_dict(building_load_profiles)"
   ]
  },
  {
   "cell_type": "code",
   "execution_count": null,
   "metadata": {},
   "outputs": [],
   "source": [
    "# Add timestamp for 2017 calendar from which the CRB loads are synced with\n",
    "from datetime import datetime, timedelta\n",
    "# Function below INCLUDES the end_date/last datetime\n",
    "def daterange(start_date, end_date):\n",
    "    delta = timedelta(hours=1)\n",
    "    while start_date <= end_date:\n",
    "        yield start_date\n",
    "        start_date += delta\n",
    "start_date = datetime(2017, 1, 1, 0, 00)\n",
    "end_date = datetime(2017, 12, 31, 23, 00)\n",
    "building_load_profiles_df.index = daterange(start_date, end_date)\n",
    "building_load_profiles_df.to_csv(\"./load_profiles/building_load_profiles.csv\")"
   ]
  },
  {
   "cell_type": "code",
   "execution_count": 58,
   "metadata": {},
   "outputs": [],
   "source": [
    "# OVERRIDING PROCESSED LOAD PROFILES WITH THE ONE JIMMY SENT WITH THE MISSING BUILDING, FOR NOW\n",
    "building_load_profiles_df = pd.read_csv('./load_profiles/building_load_profiles_03082022_JEQ.csv', index_col=0)"
   ]
  },
  {
   "cell_type": "code",
   "execution_count": 53,
   "metadata": {},
   "outputs": [],
   "source": [
    "import matplotlib.pyplot as plt\n",
    "import random"
   ]
  },
  {
   "cell_type": "code",
   "execution_count": 54,
   "metadata": {},
   "outputs": [
    {
     "data": {
      "text/plain": [
       "[<matplotlib.lines.Line2D at 0x7fc2baf0bee0>]"
      ]
     },
     "execution_count": 54,
     "metadata": {},
     "output_type": "execute_result"
    },
    {
     "data": {
      "image/png": "[encoded data removed]",
      "text/plain": [
       "<Figure size 432x288 with 1 Axes>"
      ]
     },
     "metadata": {
      "needs_background": "light"
     },
     "output_type": "display_data"
    }
   ],
   "source": [
    "plt.plot(building_load_profiles_df[\"All\"].values)"
   ]
  },
  {
   "cell_type": "code",
   "execution_count": 59,
   "metadata": {},
   "outputs": [],
   "source": [
    "# Determine which load will be used for the electric load profile and critical load\n",
    "post_1[\"Scenario\"][\"Site\"][\"LoadProfile\"][\"loads_kw\"] = list(building_load_profiles_df[\"All\"].values)\n",
    "# From post_1 definition above, critical_load_pct = 1 which is what we want"
   ]
  },
  {
   "cell_type": "markdown",
   "metadata": {},
   "source": [
    "### Load in a custom electric rate generated from https://reopt.nrel.gov/tool/custom_tariffs"
   ]
  },
  {
   "cell_type": "code",
   "execution_count": 6,
   "metadata": {},
   "outputs": [],
   "source": [
    "load_electric_rate = \"PGE_E20\"\n",
    "with open(os.path.join(rates_path, load_electric_rate + \".json\"), 'r') as fp:\n",
    "    rate_1 = json.load(fp)\n",
    "post_1[\"Scenario\"][\"Site\"][\"ElectricTariff\"][\"urdb_response\"] = rate_1"
   ]
  },
  {
   "cell_type": "markdown",
   "metadata": {},
   "source": [
    "## Save the POST to a .json file for sharing or future loading in"
   ]
  },
  {
   "cell_type": "code",
   "execution_count": 7,
   "metadata": {},
   "outputs": [],
   "source": [
    "# Convert python dictionary post into json and save to a .json file\n",
    "post_save = post_1\n",
    "post_name = \"post_1\"\n",
    "with open(os.path.join(inputs_path, post_name + \".json\"), 'w') as fp:\n",
    "    json.dump(post_save, fp)"
   ]
  },
  {
   "cell_type": "markdown",
   "metadata": {},
   "source": [
    "## Or load in a saved .json file for the inputs/POST"
   ]
  },
  {
   "cell_type": "code",
   "execution_count": 8,
   "metadata": {
    "scrolled": true
   },
   "outputs": [],
   "source": [
    "# Load a json into a python dictionary\n",
    "load_post = \"post_1\"\n",
    "with open(os.path.join(inputs_path, load_post + \".json\"), 'r') as fp:\n",
    "    post_1 = json.load(fp)"
   ]
  },
  {
   "cell_type": "markdown",
   "metadata": {},
   "source": [
    "## POST and poll (periodic GET request) the API to GET a new result, if not loading in a previous response. This may take a while!"
   ]
  },
  {
   "cell_type": "markdown",
   "metadata": {},
   "source": [
    "### Note, the `api_url` in the `get_api_results` function below calls the **production server** hosted API (master/main branch/version, publicly accessible)\n",
    "\n",
    "#### For calling a locally-hosted (localhost) API, see:\n",
    "- https://github.com/NREL/REopt_Lite_API/wiki/localhost-URLs-for-calling-locally-hosted-API\n",
    "\n",
    "#### For calling an API hosted on an NREL-internal server (only NREL users can access this), see:\n",
    "- https://github.nrel.gov/REopt/API_scripts/wiki/API-URLs-for-NREL-internal-servers"
   ]
  },
  {
   "cell_type": "markdown",
   "metadata": {},
   "source": [
    "`get_api_results` POST's your inputs to the API `job` endpoint, which provides a `run_uuid` if the input is valid, and then polls the `results` endpoint using the `run_uuid` until the results come back with a status other than `Optimizing...`.\n",
    "\n",
    "`get_api_results` also saves the results (full API response, including inputs) to the `results_file`.\n",
    "\n",
    "A log file is also created in the current working directory."
   ]
  },
  {
   "cell_type": "code",
   "execution_count": 60,
   "metadata": {},
   "outputs": [
    {
     "name": "stderr",
     "output_type": "stream",
     "text": [
      "main         INFO     Response OK from https://developer.nrel.gov/api/reopt/v1/job/?api_key=uiMp56xYMT983T2OikI0RrEKAyAAEDpZHzuC8nTC.\n",
      "main         INFO     Polling https://developer.nrel.gov/api/reopt/v1/job/95d64cda-7755-4e24-9ebc-2be9eabc3174/results/?api_key=uiMp56xYMT983T2OikI0RrEKAyAAEDpZHzuC8nTC for results with interval of 5s...\n",
      "main         INFO     Saved results to ./outputs/outage_start_1221.json\n",
      "main         INFO     Response OK from https://developer.nrel.gov/api/reopt/v1/job/?api_key=uiMp56xYMT983T2OikI0RrEKAyAAEDpZHzuC8nTC.\n",
      "main         INFO     Polling https://developer.nrel.gov/api/reopt/v1/job/7f166584-04aa-40ed-8108-bdb265ea8d4d/results/?api_key=uiMp56xYMT983T2OikI0RrEKAyAAEDpZHzuC8nTC for results with interval of 5s...\n",
      "main         INFO     Saved results to ./outputs/outage_start_8265.json\n",
      "main         INFO     Response OK from https://developer.nrel.gov/api/reopt/v1/job/?api_key=uiMp56xYMT983T2OikI0RrEKAyAAEDpZHzuC8nTC.\n",
      "main         INFO     Polling https://developer.nrel.gov/api/reopt/v1/job/b8a52615-5fa2-4198-9b9b-c09e87a357ad/results/?api_key=uiMp56xYMT983T2OikI0RrEKAyAAEDpZHzuC8nTC for results with interval of 5s...\n",
      "main         INFO     Saved results to ./outputs/outage_start_6590.json\n",
      "main         INFO     Response OK from https://developer.nrel.gov/api/reopt/v1/job/?api_key=uiMp56xYMT983T2OikI0RrEKAyAAEDpZHzuC8nTC.\n",
      "main         INFO     Polling https://developer.nrel.gov/api/reopt/v1/job/84afcf55-32b9-4931-87df-b1d5b2d12837/results/?api_key=uiMp56xYMT983T2OikI0RrEKAyAAEDpZHzuC8nTC for results with interval of 5s...\n",
      "main         INFO     Saved results to ./outputs/outage_start_5735.json\n",
      "main         INFO     Response OK from https://developer.nrel.gov/api/reopt/v1/job/?api_key=uiMp56xYMT983T2OikI0RrEKAyAAEDpZHzuC8nTC.\n",
      "main         INFO     Polling https://developer.nrel.gov/api/reopt/v1/job/b76955b9-f1a9-43db-ac23-4ed5bf62d732/results/?api_key=uiMp56xYMT983T2OikI0RrEKAyAAEDpZHzuC8nTC for results with interval of 5s...\n",
      "main         INFO     Saved results to ./outputs/outage_start_5193.json\n",
      "main         INFO     Response OK from https://developer.nrel.gov/api/reopt/v1/job/?api_key=uiMp56xYMT983T2OikI0RrEKAyAAEDpZHzuC8nTC.\n",
      "main         INFO     Polling https://developer.nrel.gov/api/reopt/v1/job/7c20f520-0809-4d0e-9498-88165a6916ba/results/?api_key=uiMp56xYMT983T2OikI0RrEKAyAAEDpZHzuC8nTC for results with interval of 5s...\n",
      "main         INFO     Saved results to ./outputs/outage_start_99.json\n",
      "main         INFO     Response OK from https://developer.nrel.gov/api/reopt/v1/job/?api_key=uiMp56xYMT983T2OikI0RrEKAyAAEDpZHzuC8nTC.\n",
      "main         INFO     Polling https://developer.nrel.gov/api/reopt/v1/job/4cf82f50-d1b4-4661-9fce-a82f3041f9e2/results/?api_key=uiMp56xYMT983T2OikI0RrEKAyAAEDpZHzuC8nTC for results with interval of 5s...\n",
      "main         INFO     Saved results to ./outputs/outage_start_857.json\n",
      "main         INFO     Response OK from https://developer.nrel.gov/api/reopt/v1/job/?api_key=uiMp56xYMT983T2OikI0RrEKAyAAEDpZHzuC8nTC.\n",
      "main         INFO     Polling https://developer.nrel.gov/api/reopt/v1/job/1c9b3acd-dc9a-42b2-9093-a47f8a0587a3/results/?api_key=uiMp56xYMT983T2OikI0RrEKAyAAEDpZHzuC8nTC for results with interval of 5s...\n",
      "main         INFO     Saved results to ./outputs/outage_start_3201.json\n",
      "main         INFO     Response OK from https://developer.nrel.gov/api/reopt/v1/job/?api_key=uiMp56xYMT983T2OikI0RrEKAyAAEDpZHzuC8nTC.\n",
      "main         INFO     Polling https://developer.nrel.gov/api/reopt/v1/job/4621c3b7-336f-4bed-b167-8225c93ab1ad/results/?api_key=uiMp56xYMT983T2OikI0RrEKAyAAEDpZHzuC8nTC for results with interval of 5s...\n",
      "main         INFO     Saved results to ./outputs/outage_start_6192.json\n"
     ]
    }
   ],
   "source": [
    "for i in range(1,10):\n",
    "    outage_start = random.randint(1, 8760)\n",
    "    post_1[\"Scenario\"][\"Site\"][\"LoadProfile\"][\"outage_start_time_step\"] = outage_start\n",
    "    post_1[\"Scenario\"][\"Site\"][\"LoadProfile\"][\"outage_end_time_step\"] = outage_start + 168*2\n",
    "    outputs_file_name = \"outage_start_\" + str(outage_start)\n",
    "    root_url = \"https://developer.nrel.gov/api/reopt/v1\"\n",
    "    api_response = get_api_results(post=post_1, \n",
    "                                   API_KEY=API_KEY, \n",
    "                                   api_url=root_url, \n",
    "                                   results_file=os.path.join(outputs_path, outputs_file_name + \".json\"), \n",
    "                                   run_id=None)"
   ]
  },
  {
   "cell_type": "markdown",
   "metadata": {},
   "source": [
    "### If you get disconnected from the polling function but you think it ran, copy the run_uuid from the log above to manually GET the results:"
   ]
  },
  {
   "cell_type": "code",
   "execution_count": 48,
   "metadata": {},
   "outputs": [
    {
     "name": "stdout",
     "output_type": "stream",
     "text": [
      "run_uuid =  5d642d04-5d36-45c6-bb42-7d0fc74c9c3f\n"
     ]
    }
   ],
   "source": [
    "run_uuid = api_response[\"outputs\"][\"Scenario\"][\"run_uuid\"]\n",
    "print(\"run_uuid = \", api_response[\"outputs\"][\"Scenario\"][\"run_uuid\"])\n",
    "results_url = root_url + '/job/' + run_uuid + '/results/?api_key=' + API_KEY\n",
    "resp = requests.get(url=results_url, verify=False)\n",
    "api_response = json.loads(resp.text)"
   ]
  },
  {
   "cell_type": "markdown",
   "metadata": {},
   "source": [
    "## Get summary of results"
   ]
  },
  {
   "cell_type": "code",
   "execution_count": 49,
   "metadata": {},
   "outputs": [
    {
     "name": "stdout",
     "output_type": "stream",
     "text": [
      "NPV ($) =  -4202242.0\n",
      "Capital Cost, Net ($) =  5125237.02\n",
      "PV size_kw  =  1577.1865\n",
      "Wind size_kw  =  594.8529\n",
      "Storage size_kw  =  524.8343817119356\n",
      "Storage size_kwh  =  775.3953878566319\n",
      "Generator size_kw  =  1122.661542175364\n"
     ]
    }
   ],
   "source": [
    "print(\"NPV ($) = \", api_response[\"outputs\"][\"Scenario\"][\"Site\"][\"Financial\"][\"npv_us_dollars\"])\n",
    "print(\"Capital Cost, Net ($) = \", api_response[\"outputs\"][\"Scenario\"][\"Site\"][\"Financial\"][\"net_capital_costs\"])\n",
    "tech_list = [\"PV\", \"Wind\", \"Storage\", \"CHP\", \"Generator\", \"HotTES\", \"ColdTES\", \"AbsorptionChiller\", \"GHP\", \"NewBoiler\", \"SteamTurbine\"]\n",
    "for tech in tech_list:\n",
    "    if tech in post_1[\"Scenario\"][\"Site\"].keys():\n",
    "        if tech == \"GHP\":\n",
    "            print(\"GHX Number of Boreholes = \", api_response[\"outputs\"][\"Scenario\"][\"Site\"][tech][\"ghpghx_chosen_outputs\"].get(\"number_of_boreholes\"))\n",
    "            print(\"GHP Heat Pump Capacity (ton) = \", api_response[\"outputs\"][\"Scenario\"][\"Site\"][tech][\"ghpghx_chosen_outputs\"].get(\"peak_combined_heatpump_thermal_ton\"))\n",
    "        # PV and Storage are considered if the POST does not explicitly make max_[size] == 0\n",
    "        for size_name_value in [(key, val) for key, val in api_response[\"outputs\"][\"Scenario\"][\"Site\"][tech].items() if \"size\" in key]:\n",
    "                print(tech + \" \" + size_name_value[0], \" = \", size_name_value[1])\n",
    "    elif tech in [\"PV\", \"Storage\"]:\n",
    "        for size_name_value in [(key, val) for key, val in api_response[\"outputs\"][\"Scenario\"][\"Site\"][tech].items() if \"size\" in key]:\n",
    "                print(tech + \" \" + size_name_value[0], \" = \", size_name_value[1])                "
   ]
  },
  {
   "cell_type": "code",
   "execution_count": 72,
   "metadata": {},
   "outputs": [],
   "source": [
    "# Create a dictionary with all of the outage start time responses\n",
    "directory = './outputs'\n",
    "responses = {}\n",
    "for filename in os.listdir(directory):\n",
    "    f = os.path.join(directory, filename)\n",
    "    # checking if it is a file\n",
    "    if os.path.isfile(f):\n",
    "        if \"outage_start_\" in filename:\n",
    "            dict_data = json.load(open(f, 'rb'))\n",
    "            outage_start = dict_data[\"inputs\"][\"Scenario\"][\"Site\"][\"LoadProfile\"][\"outage_start_time_step\"]\n",
    "            responses[outage_start] = json.load(open(f, 'rb'))"
   ]
  },
  {
   "cell_type": "code",
   "execution_count": 73,
   "metadata": {},
   "outputs": [],
   "source": [
    "pv_kw = []\n",
    "battery_kw = []\n",
    "battery_kwh = []\n",
    "wind_kw = []\n",
    "gen_kw = []\n",
    "npv = []\n",
    "for start, data in responses.items():\n",
    "    pv_kw.append(data[\"outputs\"][\"Scenario\"][\"Site\"][\"PV\"][\"size_kw\"])\n",
    "    battery_kw.append(data[\"outputs\"][\"Scenario\"][\"Site\"][\"Storage\"][\"size_kw\"])\n",
    "    battery_kwh.append(data[\"outputs\"][\"Scenario\"][\"Site\"][\"Storage\"][\"size_kwh\"])\n",
    "    wind_kw.append(data[\"outputs\"][\"Scenario\"][\"Site\"][\"Wind\"][\"size_kw\"])\n",
    "    gen_kw.append(data[\"outputs\"][\"Scenario\"][\"Site\"][\"Generator\"][\"size_kw\"]) \n",
    "    npv.append(data[\"outputs\"][\"Scenario\"][\"Site\"][\"Financial\"][\"npv_us_dollars\"])"
   ]
  },
  {
   "cell_type": "code",
   "execution_count": 112,
   "metadata": {},
   "outputs": [
    {
     "data": {
      "text/plain": [
       "Text(0.5, 1.0, 'REopt sizing results for different outage start times')"
      ]
     },
     "execution_count": 112,
     "metadata": {},
     "output_type": "execute_result"
    },
    {
     "data": {
      "application/vnd.jupyter.widget-view+json": {
       "model_id": "9a41522f90f346f2815818d5b23ff09b",
       "version_major": 2,
       "version_minor": 0
      },
      "text/html": [
       "\n",
       "            <div style=\"display: inline-block;\">\n",
       "                <div class=\"jupyter-widgets widget-label\" style=\"text-align: center;\">\n",
       "                    Figure\n",
       "                </div>\n",
       "                <img src='data:image/png;base64,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' width=640.0/>\n",
       "            </div>\n",
       "        "
      ],
      "text/plain": [
       "Canvas(toolbar=Toolbar(toolitems=[('Home', 'Reset original view', 'home', 'home'), ('Back', 'Back to previous …"
      ]
     },
     "metadata": {},
     "output_type": "display_data"
    }
   ],
   "source": [
    "%matplotlib widget\n",
    "plt.scatter(responses.keys(), [pv_kw[i] or 0 for i in range(len(pv_kw))], label=\"pv_kw\")\n",
    "plt.scatter(responses.keys(), [battery_kw[i] or 0 for i in range(len(battery_kw))], label=\"battery_kw\")\n",
    "plt.scatter(responses.keys(), [battery_kwh[i] or 0 for i in range(len(battery_kwh))], label=\"battery_kwh\")\n",
    "plt.scatter(responses.keys(), [gen_kw[i] or 0 for i in range(len(gen_kw))], label=\"gen_kw\")\n",
    "plt.scatter(responses.keys(), [wind_kw[i] or 0 for i in range(len(wind_kw))], label=\"wind_kw\")\n",
    "plt.scatter(responses.keys(), [(npv[i] or 0)*-1/1E3 for i in range(len(npv))], label=\"NPC ($K)\")\n",
    "plt.yticks(np.arange(0, 3000, 250))\n",
    "plt.grid()\n",
    "plt.legend()\n",
    "plt.ylabel(\"Tech size (kW or kWh) and NPC ($K)\")\n",
    "plt.xlabel(\"outage start time scenarios (hour)\")\n",
    "plt.title(\"REopt sizing results for different outage start times\")"
   ]
  },
  {
   "cell_type": "markdown",
   "metadata": {},
   "source": [
    "### Here are some results keys examples:"
   ]
  },
  {
   "cell_type": "code",
   "execution_count": 12,
   "metadata": {},
   "outputs": [
    {
     "data": {
      "text/plain": [
       "dict_keys(['outputs', 'inputs', 'messages'])"
      ]
     },
     "execution_count": 13,
     "metadata": {},
     "output_type": "execute_result"
    }
   ],
   "source": [
    "api_response.keys()"
   ]
  },
  {
   "cell_type": "code",
   "execution_count": 14,
   "metadata": {},
   "outputs": [
    {
     "data": {
      "text/plain": [
       "'optimal'"
      ]
     },
     "execution_count": 15,
     "metadata": {},
     "output_type": "execute_result"
    }
   ],
   "source": [
    "api_response[\"outputs\"][\"Scenario\"][\"status\"]"
   ]
  },
  {
   "cell_type": "code",
   "execution_count": 16,
   "metadata": {},
   "outputs": [
    {
     "name": "stdout",
     "output_type": "stream",
     "text": [
      "year_one_emissions_lb_C02\n",
      "year_one_emissions_bau_lb_C02\n",
      "outdoor_air_temp_degF\n",
      "renewable_electricity_energy_pct\n",
      "Financial\n",
      "LoadProfile\n",
      "LoadProfileBoilerFuel\n",
      "LoadProfileChillerThermal\n",
      "ElectricTariff\n",
      "FuelTariff\n",
      "Storage\n",
      "Generator\n",
      "Wind\n",
      "CHP\n",
      "Boiler\n",
      "ElectricChiller\n",
      "AbsorptionChiller\n",
      "HotTES\n",
      "ColdTES\n",
      "NewBoiler\n",
      "SteamTurbine\n",
      "GHP\n",
      "PV\n"
     ]
    }
   ],
   "source": [
    "for k in api_response[\"outputs\"][\"Scenario\"][\"Site\"].keys():\n",
    "    print(k)"
   ]
  },
  {
   "cell_type": "markdown",
   "metadata": {},
   "source": [
    "## Save API response into a JSON file for later use"
   ]
  },
  {
   "cell_type": "code",
   "execution_count": 17,
   "metadata": {},
   "outputs": [],
   "source": [
    "response_save = api_response\n",
    "file_name_to_save = \"response_1\"\n",
    "with open(os.path.join(outputs_path, file_name_to_save + \".json\"), 'w') as fp:\n",
    "    json.dump(response_save, fp)"
   ]
  }
 ],
 "metadata": {
  "@webio": {
   "lastCommId": null,
   "lastKernelId": null
  },
  "kernelspec": {
   "display_name": "Python 3 (ipykernel)",
   "language": "python",
   "name": "python3"
  },
  "language_info": {
   "codemirror_mode": {
    "name": "ipython",
    "version": 3
   },
   "file_extension": ".py",
   "mimetype": "text/x-python",
   "name": "python",
   "nbconvert_exporter": "python",
   "pygments_lexer": "ipython3",
   "version": "3.9.7"
  },
  "latex_envs": {
   "LaTeX_envs_menu_present": true,
   "autoclose": false,
   "autocomplete": true,
   "bibliofile": "biblio.bib",
   "cite_by": "apalike",
   "current_citInitial": 1,
   "eqLabelWithNumbers": true,
   "eqNumInitial": 1,
   "hotkeys": {
    "equation": "Ctrl-E",
    "itemize": "Ctrl-I"
   },
   "labels_anchors": false,
   "latex_user_defs": false,
   "report_style_numbering": false,
   "user_envs_cfg": false
  }
 },
 "nbformat": 4,
 "nbformat_minor": 4
}
