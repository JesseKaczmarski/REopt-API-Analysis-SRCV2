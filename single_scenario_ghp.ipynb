{
 "cells": [
  {
   "cell_type": "markdown",
   "metadata": {},
   "source": [
    "# Run a REopt API evaluation"
   ]
  },
  {
   "cell_type": "markdown",
   "metadata": {},
   "source": [
    "## Initialization"
   ]
  },
  {
   "cell_type": "code",
   "execution_count": 1,
   "metadata": {},
   "outputs": [],
   "source": [
    "import pandas as pd\n",
    "import numpy as np\n",
    "import json\n",
    "import requests\n",
    "import copy\n",
    "import os\n",
    "from src.post_and_poll import get_api_results\n",
    "API_KEY = 'DEMO_KEY'  # REPLACE WITH YOUR API KEY"
   ]
  },
  {
   "cell_type": "code",
   "execution_count": 2,
   "metadata": {},
   "outputs": [],
   "source": [
    "# following is not necessary but silences warnings:\n",
    "# InsecureRequestWarning: Unverified HTTPS request is being made to host 'developer.nrel.gov'. Adding certificate verification is strongly advised.\n",
    "import urllib3\n",
    "urllib3.disable_warnings()"
   ]
  },
  {
   "cell_type": "code",
   "execution_count": 3,
   "metadata": {},
   "outputs": [],
   "source": [
    "\"\"\"\n",
    "Here are some convenience definitions for using the Multi-scenario capabilities\n",
    "\"\"\"\n",
    "##############################################################################################################\n",
    "inputs_path = os.path.join(\".\", 'inputs')\n",
    "outputs_path = os.path.join(\".\", 'outputs')\n",
    "loads_path = os.path.join(\".\", 'load_profiles')\n",
    "rates_path = os.path.join(\".\", 'electric_rates')\n",
    "##############################################################################################################"
   ]
  },
  {
   "cell_type": "markdown",
   "metadata": {},
   "source": [
    "## Load a previously saved API response .json file instead of running REopt"
   ]
  },
  {
   "cell_type": "code",
   "execution_count": 4,
   "metadata": {},
   "outputs": [],
   "source": [
    "response_json = 'results'\n",
    "with open(os.path.join(outputs_path, response_json + '.json'), 'rb') as handle:\n",
    "    api_response = json.load(handle)"
   ]
  },
  {
   "cell_type": "markdown",
   "metadata": {},
   "source": [
    "## Scenario Inputs (POST), if wanting to do a new API call"
   ]
  },
  {
   "cell_type": "code",
   "execution_count": 5,
   "metadata": {},
   "outputs": [],
   "source": [
    "post_1 = {\"Scenario\": {\n",
    "    \"Site\": {\n",
    "        \"longitude\": -118.116,\n",
    "        \"latitude\": 34.579,\n",
    "        \"roof_squarefeet\": 5000.0,\n",
    "        \"land_acres\": 1.0,\n",
    "    \"PV\": {\n",
    "        \"macrs_bonus_pct\": 0.4,\n",
    "        \"installed_cost_us_dollars_per_kw\": 2000.0,\n",
    "        \"tilt\": 34.579,\n",
    "        \"degradation_pct\": 0.005,\n",
    "        \"macrs_option_years\": 5,\n",
    "        \"federal_itc_pct\": 0.3,\n",
    "        \"module_type\": 0,\n",
    "        \"array_type\": 1,\n",
    "        \"om_cost_us_dollars_per_kw\": 16.0,\n",
    "        \"macrs_itc_reduction\": 0.5,\n",
    "        \"azimuth\": 180.0,\n",
    "        \"federal_rebate_us_dollars_per_kw\": 350.0,\n",
    "        \"dc_ac_ratio\": 1.1\n",
    "    },\n",
    "    \"LoadProfile\": {\n",
    "        \"doe_reference_name\": \"RetailStore\",\n",
    "        \"annual_kwh\": 10000000.0,\n",
    "        \"city\": \"LosAngeles\"\n",
    "    },\n",
    "    \"Storage\": {\n",
    "        \"total_rebate_per_kw\": 100.0,\n",
    "        \"macrs_option_years\": 5,\n",
    "        \"can_grid_charge\": True,\n",
    "        \"macrs_bonus_pct\": 0.4,\n",
    "        \"macrs_itc_reduction\": 0.5,\n",
    "        \"total_itc_pct\": 0,\n",
    "        \"installed_cost_us_dollars_per_kw\": 1000.0,\n",
    "        \"installed_cost_us_dollars_per_kwh\": 500.0,\n",
    "        \"replace_cost_us_dollars_per_kw\": 460.0,\n",
    "        \"replace_cost_us_dollars_per_kwh\": 230.0\n",
    "    },\n",
    "    \"ElectricTariff\": {\n",
    "        \"urdb_label\": \"5ed6c1a15457a3367add15ae\"\n",
    "    },\n",
    "    \"Financial\": {\n",
    "        \"escalation_pct\": 0.026,\n",
    "        \"offtaker_discount_pct\": 0.081,\n",
    "        \"owner_discount_pct\": 0.081,\n",
    "        \"analysis_years\": 20,\n",
    "        \"offtaker_tax_pct\": 0.4,\n",
    "        \"owner_tax_pct\": 0.4,\n",
    "        \"om_cost_escalation_pct\": 0.025\n",
    "    }\n",
    "}}}"
   ]
  },
  {
   "cell_type": "markdown",
   "metadata": {},
   "source": [
    "### Load in a custom electric rate generated from https://reopt.nrel.gov/tool/custom_tariffs"
   ]
  },
  {
   "cell_type": "code",
   "execution_count": 6,
   "metadata": {},
   "outputs": [],
   "source": [
    "load_electric_rate = \"PGE_E20\"\n",
    "with open(os.path.join(rates_path, load_electric_rate + \".json\"), 'r') as fp:\n",
    "    rate_1 = json.load(fp)\n",
    "post_1[\"Scenario\"][\"Site\"][\"ElectricTariff\"][\"urdb_response\"] = rate_1"
   ]
  },
  {
   "cell_type": "markdown",
   "metadata": {},
   "source": [
    "## Save the POST to a .json file for sharing or future loading in"
   ]
  },
  {
   "cell_type": "code",
   "execution_count": 7,
   "metadata": {},
   "outputs": [],
   "source": [
    "# Convert python dictionary post into json and save to a .json file\n",
    "post_save = post_1\n",
    "post_name = \"post_1\"\n",
    "with open(os.path.join(inputs_path, post_name + \".json\"), 'w') as fp:\n",
    "    json.dump(post_save, fp)"
   ]
  },
  {
   "cell_type": "markdown",
   "metadata": {},
   "source": [
    "## Or load in a saved .json file for the inputs/POST"
   ]
  },
  {
   "cell_type": "code",
   "execution_count": 4,
   "metadata": {
    "scrolled": true
   },
   "outputs": [],
   "source": [
    "# Load a json into a python dictionary\n",
    "load_post = \"post_ghp\"\n",
    "with open(os.path.join(inputs_path, load_post + \".json\"), 'r') as fp:\n",
    "    post_1 = json.load(fp)\n",
    "post_1[\"Scenario\"][\"Site\"][\"GHP\"][\"ghpghx_inputs\"][0][\"ghx_fluid_thermal_conductivity_btu_per_hr_ft_f\"] = 0.34\n",
    "post_1[\"Scenario\"][\"Site\"][\"GHP\"][\"ghpghx_inputs\"][0][\"ghx_fluid_dynamic_viscosity_lbm_per_ft_hr\"] = 2.75"
   ]
  },
  {
   "cell_type": "code",
   "execution_count": 5,
   "metadata": {},
   "outputs": [
    {
     "data": {
      "text/plain": [
       "{'installed_cost_heatpump_us_dollars_per_ton': '1.0',\n",
       " 'installed_cost_ghx_us_dollars_per_ft': '0.01',\n",
       " 'building_sqft': '150000.0',\n",
       " 'require_ghp_purchase': True,\n",
       " 'macrs_option_years': 5,\n",
       " 'macrs_bonus_pct': '1.0',\n",
       " 'ghpghx_inputs': [{'ghx_fluid_thermal_conductivity_btu_per_hr_ft_f': 0.34,\n",
       "   'ghx_fluid_dynamic_viscosity_lbm_per_ft_hr': 2.75}]}"
      ]
     },
     "execution_count": 5,
     "metadata": {},
     "output_type": "execute_result"
    }
   ],
   "source": [
    "post_1[\"Scenario\"][\"Site\"][\"GHP\"]"
   ]
  },
  {
   "cell_type": "markdown",
   "metadata": {},
   "source": [
    "## POST and poll (periodic GET request) the API to GET a new result, if not loading in a previous response. This may take a while!"
   ]
  },
  {
   "cell_type": "markdown",
   "metadata": {},
   "source": [
    "### Note, the `api_url` in the `get_api_results` function below calls the **production server** hosted API (master/main branch/version, publicly accessible)\n",
    "\n",
    "#### For calling a locally-hosted (localhost) API, see:\n",
    "- https://github.com/NREL/REopt_Lite_API/wiki/localhost-URLs-for-calling-locally-hosted-API\n",
    "\n",
    "#### For calling an API hosted on an NREL-internal server (only NREL users can access this), see:\n",
    "- https://github.nrel.gov/REopt/API_scripts/wiki/API-URLs-for-NREL-internal-servers"
   ]
  },
  {
   "cell_type": "markdown",
   "metadata": {},
   "source": [
    "`get_api_results` POST's your inputs to the API `job` endpoint, which provides a `run_uuid` if the input is valid, and then polls the `results` endpoint using the `run_uuid` until the results come back with a status other than `Optimizing...`.\n",
    "\n",
    "`get_api_results` also saves the results (full API response, including inputs) to the `results_file`.\n",
    "\n",
    "A log file is also created in the current working directory."
   ]
  },
  {
   "cell_type": "code",
   "execution_count": 6,
   "metadata": {},
   "outputs": [
    {
     "name": "stderr",
     "output_type": "stream",
     "text": [
      "main         INFO     Response OK from https://developer.nrel.gov/api/reopt/v1/job/?api_key=DEMO_KEY.\n",
      "main         INFO     Polling https://developer.nrel.gov/api/reopt/v1/job/54b133f4-c095-4c24-b3d6-e7edf4e76c48/results/?api_key=DEMO_KEY for results with interval of 5s...\n",
      "main         INFO     Saved results to ./outputs/results_file.json\n"
     ]
    }
   ],
   "source": [
    "outputs_file_name = \"results_file\"\n",
    "root_url = \"https://developer.nrel.gov/api/reopt/v1\"\n",
    "api_response = get_api_results(post=post_1, \n",
    "                               API_KEY=API_KEY, \n",
    "                               api_url=root_url, \n",
    "                               results_file=os.path.join(outputs_path, outputs_file_name + \".json\"), \n",
    "                               run_id=None)"
   ]
  },
  {
   "cell_type": "markdown",
   "metadata": {},
   "source": [
    "### If you get disconnected from the polling function but you think it ran, copy the run_uuid from the log above to manually GET the results:"
   ]
  },
  {
   "cell_type": "code",
   "execution_count": 4,
   "metadata": {},
   "outputs": [],
   "source": [
    "run_uuid = \"615ccdfb-e8b9-4f7b-bfcf-73d11ce2e2a6\" #api_response[\"outputs\"][\"Scenario\"][\"run_uuid\"]\n",
    "root_url = \"https://developer.nrel.gov/api/reopt/v1\"\n",
    "results_url = root_url + '/job/' + run_uuid + '/results/?api_key=' + API_KEY\n",
    "resp = requests.get(url=results_url, verify=False)\n",
    "api_response = json.loads(resp.text)"
   ]
  },
  {
   "cell_type": "markdown",
   "metadata": {},
   "source": [
    "## Get summary of results"
   ]
  },
  {
   "cell_type": "code",
   "execution_count": 5,
   "metadata": {},
   "outputs": [
    {
     "name": "stdout",
     "output_type": "stream",
     "text": [
      "NPV ($) =  None\n",
      "Capital Cost, Net ($) =  None\n"
     ]
    },
    {
     "ename": "NameError",
     "evalue": "name 'post_1' is not defined",
     "output_type": "error",
     "traceback": [
      "\u001b[0;31m---------------------------------------------------------------------------\u001b[0m",
      "\u001b[0;31mNameError\u001b[0m                                 Traceback (most recent call last)",
      "\u001b[0;32m/tmp/ipykernel_58/158883474.py\u001b[0m in \u001b[0;36m<module>\u001b[0;34m\u001b[0m\n\u001b[1;32m      3\u001b[0m \u001b[0mtech_list\u001b[0m \u001b[0;34m=\u001b[0m \u001b[0;34m[\u001b[0m\u001b[0;34m\"PV\"\u001b[0m\u001b[0;34m,\u001b[0m \u001b[0;34m\"Wind\"\u001b[0m\u001b[0;34m,\u001b[0m \u001b[0;34m\"Storage\"\u001b[0m\u001b[0;34m,\u001b[0m \u001b[0;34m\"CHP\"\u001b[0m\u001b[0;34m,\u001b[0m \u001b[0;34m\"Generator\"\u001b[0m\u001b[0;34m,\u001b[0m \u001b[0;34m\"HotTES\"\u001b[0m\u001b[0;34m,\u001b[0m \u001b[0;34m\"ColdTES\"\u001b[0m\u001b[0;34m,\u001b[0m \u001b[0;34m\"AbsorptionChiller\"\u001b[0m\u001b[0;34m,\u001b[0m \u001b[0;34m\"GHP\"\u001b[0m\u001b[0;34m,\u001b[0m \u001b[0;34m\"NewBoiler\"\u001b[0m\u001b[0;34m,\u001b[0m \u001b[0;34m\"SteamTurbine\"\u001b[0m\u001b[0;34m]\u001b[0m\u001b[0;34m\u001b[0m\u001b[0;34m\u001b[0m\u001b[0m\n\u001b[1;32m      4\u001b[0m \u001b[0;32mfor\u001b[0m \u001b[0mtech\u001b[0m \u001b[0;32min\u001b[0m \u001b[0mtech_list\u001b[0m\u001b[0;34m:\u001b[0m\u001b[0;34m\u001b[0m\u001b[0;34m\u001b[0m\u001b[0m\n\u001b[0;32m----> 5\u001b[0;31m     \u001b[0;32mif\u001b[0m \u001b[0mtech\u001b[0m \u001b[0;32min\u001b[0m \u001b[0mpost_1\u001b[0m\u001b[0;34m[\u001b[0m\u001b[0;34m\"Scenario\"\u001b[0m\u001b[0;34m]\u001b[0m\u001b[0;34m[\u001b[0m\u001b[0;34m\"Site\"\u001b[0m\u001b[0;34m]\u001b[0m\u001b[0;34m.\u001b[0m\u001b[0mkeys\u001b[0m\u001b[0;34m(\u001b[0m\u001b[0;34m)\u001b[0m\u001b[0;34m:\u001b[0m\u001b[0;34m\u001b[0m\u001b[0;34m\u001b[0m\u001b[0m\n\u001b[0m\u001b[1;32m      6\u001b[0m         \u001b[0;32mif\u001b[0m \u001b[0mtech\u001b[0m \u001b[0;34m==\u001b[0m \u001b[0;34m\"GHP\"\u001b[0m\u001b[0;34m:\u001b[0m\u001b[0;34m\u001b[0m\u001b[0;34m\u001b[0m\u001b[0m\n\u001b[1;32m      7\u001b[0m             \u001b[0mprint\u001b[0m\u001b[0;34m(\u001b[0m\u001b[0;34m\"GHX Number of Boreholes = \"\u001b[0m\u001b[0;34m,\u001b[0m \u001b[0mapi_response\u001b[0m\u001b[0;34m[\u001b[0m\u001b[0;34m\"outputs\"\u001b[0m\u001b[0;34m]\u001b[0m\u001b[0;34m[\u001b[0m\u001b[0;34m\"Scenario\"\u001b[0m\u001b[0;34m]\u001b[0m\u001b[0;34m[\u001b[0m\u001b[0;34m\"Site\"\u001b[0m\u001b[0;34m]\u001b[0m\u001b[0;34m[\u001b[0m\u001b[0mtech\u001b[0m\u001b[0;34m]\u001b[0m\u001b[0;34m[\u001b[0m\u001b[0;34m\"ghpghx_chosen_outputs\"\u001b[0m\u001b[0;34m]\u001b[0m\u001b[0;34m.\u001b[0m\u001b[0mget\u001b[0m\u001b[0;34m(\u001b[0m\u001b[0;34m\"number_of_boreholes\"\u001b[0m\u001b[0;34m)\u001b[0m\u001b[0;34m)\u001b[0m\u001b[0;34m\u001b[0m\u001b[0;34m\u001b[0m\u001b[0m\n",
      "\u001b[0;31mNameError\u001b[0m: name 'post_1' is not defined"
     ]
    }
   ],
   "source": [
    "print(\"NPV ($) = \", api_response[\"outputs\"][\"Scenario\"][\"Site\"][\"Financial\"][\"npv_us_dollars\"])\n",
    "print(\"Capital Cost, Net ($) = \", api_response[\"outputs\"][\"Scenario\"][\"Site\"][\"Financial\"][\"net_capital_costs\"])\n",
    "tech_list = [\"PV\", \"Wind\", \"Storage\", \"CHP\", \"Generator\", \"HotTES\", \"ColdTES\", \"AbsorptionChiller\", \"GHP\", \"NewBoiler\", \"SteamTurbine\"]\n",
    "for tech in tech_list:\n",
    "    if tech in post_1[\"Scenario\"][\"Site\"].keys():\n",
    "        if tech == \"GHP\":\n",
    "            print(\"GHX Number of Boreholes = \", api_response[\"outputs\"][\"Scenario\"][\"Site\"][tech][\"ghpghx_chosen_outputs\"].get(\"number_of_boreholes\"))\n",
    "            print(\"GHP Heat Pump Capacity (ton) = \", api_response[\"outputs\"][\"Scenario\"][\"Site\"][tech][\"ghpghx_chosen_outputs\"].get(\"peak_combined_heatpump_thermal_ton\"))\n",
    "        # PV and Storage are considered if the POST does not explicitly make max_[size] == 0\n",
    "        for size_name_value in [(key, val) for key, val in api_response[\"outputs\"][\"Scenario\"][\"Site\"][tech].items() if \"size\" in key]:\n",
    "                print(tech + \" \" + size_name_value[0], \" = \", size_name_value[1])\n",
    "    elif tech in [\"PV\", \"Storage\"]:\n",
    "        for size_name_value in [(key, val) for key, val in api_response[\"outputs\"][\"Scenario\"][\"Site\"][tech].items() if \"size\" in key]:\n",
    "                print(tech + \" \" + size_name_value[0], \" = \", size_name_value[1])                "
   ]
  },
  {
   "cell_type": "markdown",
   "metadata": {},
   "source": [
    "### Here are some results keys examples:"
   ]
  },
  {
   "cell_type": "code",
   "execution_count": 6,
   "metadata": {},
   "outputs": [
    {
     "data": {
      "text/plain": [
       "dict_keys(['outputs', 'inputs', 'messages'])"
      ]
     },
     "execution_count": 6,
     "metadata": {},
     "output_type": "execute_result"
    }
   ],
   "source": [
    "api_response.keys()"
   ]
  },
  {
   "cell_type": "code",
   "execution_count": 7,
   "metadata": {},
   "outputs": [
    {
     "data": {
      "text/plain": [
       "'An error occurred. See messages for more.'"
      ]
     },
     "execution_count": 7,
     "metadata": {},
     "output_type": "execute_result"
    }
   ],
   "source": [
    "api_response[\"outputs\"][\"Scenario\"][\"status\"]"
   ]
  },
  {
   "cell_type": "code",
   "execution_count": 11,
   "metadata": {},
   "outputs": [
    {
     "data": {
      "text/plain": [
       "{'warnings': \"{'Default values used for the following:': {'Scenario': 'timeout_seconds AND time_steps_per_hour AND optimality_tolerance_bau AND add_soc_incentive', 'Scenario>Site': 'outdoor_air_temp_degF AND elevation_ft', 'Scenario>Site>Financial': 'om_cost_escalation_pct AND escalation_pct AND generator_fuel_escalation_pct AND boiler_fuel_escalation_pct AND chp_fuel_escalation_pct AND newboiler_fuel_escalation_pct AND offtaker_tax_pct AND offtaker_discount_pct AND third_party_ownership AND owner_tax_pct AND owner_discount_pct AND analysis_years AND value_of_lost_load_us_dollars_per_kwh AND microgrid_upgrade_cost_pct AND other_capital_costs_us_dollars AND other_annual_costs_us_dollars_per_year AND co2_cost_us_dollars_per_tonne AND co2_cost_escalation_pct AND owner_discount_pct AND owner_tax_pct', 'Scenario>Site>LoadProfile': 'percent_share AND year AND loads_kw_is_net AND critical_loads_kw_is_net AND critical_load_pct AND outage_is_major_event AND min_load_met_pct AND sr_required_pct', 'Scenario>Site>LoadProfileBoilerFuel': 'addressable_load_fraction', 'Scenario>Site>ElectricTariff': 'add_blended_rates_to_urdb_rate AND add_tou_energy_rates_to_urdb_rate AND net_metering_limit_kw AND interconnection_limit_kw AND wholesale_rate_us_dollars_per_kwh AND wholesale_rate_above_site_load_us_dollars_per_kwh AND emissions_factor_CO2_pct_decrease AND emissions_factor_NOx_pct_decrease AND emissions_factor_SO2_pct_decrease AND emissions_factor_PM25_pct_decrease AND chp_standby_rate_us_dollars_per_kw_per_month AND chp_does_not_reduce_demand_charges', 'Scenario>Site>FuelTariff': 'boiler_fuel_blended_monthly_rates_us_dollars_per_mmbtu AND boiler_fuel_percent_RE AND chp_fuel_blended_monthly_rates_us_dollars_per_mmbtu AND newboiler_fuel_type AND newboiler_fuel_percent_RE AND newboiler_fuel_blended_annual_rates_us_dollars_per_mmbtu AND newboiler_fuel_blended_monthly_rates_us_dollars_per_mmbtu AND chp_fuel_percent_RE', 'Scenario>Site>Wind': 'min_kw AND installed_cost_us_dollars_per_kw AND om_cost_us_dollars_per_kw AND macrs_option_years AND macrs_bonus_pct AND macrs_itc_reduction AND federal_itc_pct AND state_ibi_pct AND state_ibi_max_us_dollars AND utility_ibi_pct AND utility_ibi_max_us_dollars AND federal_rebate_us_dollars_per_kw AND state_rebate_us_dollars_per_kw AND state_rebate_max_us_dollars AND utility_rebate_us_dollars_per_kw AND utility_rebate_max_us_dollars AND pbi_us_dollars_per_kwh AND pbi_max_us_dollars AND pbi_years AND pbi_system_max_kw AND can_wholesale AND can_export_beyond_site_load AND can_curtail', 'Scenario>Site>PV': 'existing_kw AND min_kw AND max_kw AND installed_cost_us_dollars_per_kw AND om_cost_us_dollars_per_kw AND macrs_itc_reduction AND federal_itc_pct AND state_ibi_pct AND state_ibi_max_us_dollars AND utility_ibi_pct AND utility_ibi_max_us_dollars AND federal_rebate_us_dollars_per_kw AND state_rebate_us_dollars_per_kw AND state_rebate_max_us_dollars AND utility_rebate_us_dollars_per_kw AND utility_rebate_max_us_dollars AND pbi_us_dollars_per_kwh AND pbi_max_us_dollars AND pbi_years AND pbi_system_max_kw AND degradation_pct AND azimuth AND losses AND gcr AND dc_ac_ratio AND inv_eff AND radius AND tilt AND location AND can_wholesale AND can_export_beyond_site_load AND can_curtail AND sr_required_pct', 'Scenario>Site>Storage': 'min_kw AND max_kw AND min_kwh AND max_kwh AND internal_efficiency_pct AND inverter_efficiency_pct AND rectifier_efficiency_pct AND soc_min_pct AND soc_init_pct AND installed_cost_us_dollars_per_kw AND installed_cost_us_dollars_per_kwh AND replace_cost_us_dollars_per_kw AND replace_cost_us_dollars_per_kwh AND inverter_replacement_year AND battery_replacement_year AND macrs_itc_reduction AND total_itc_pct AND total_rebate_us_dollars_per_kw AND total_rebate_us_dollars_per_kwh', 'Scenario>Site>Generator': 'existing_kw AND min_kw AND installed_cost_us_dollars_per_kw AND om_cost_us_dollars_per_kw AND om_cost_us_dollars_per_kwh AND diesel_fuel_cost_us_dollars_per_gallon AND fuel_slope_gal_per_kwh AND fuel_intercept_gal_per_hr AND fuel_avail_gal AND min_turn_down_pct AND generator_fuel_percent_RE AND generator_only_runs_during_grid_outage AND generator_sells_energy_back_to_grid AND macrs_option_years AND macrs_bonus_pct AND macrs_itc_reduction AND federal_itc_pct AND state_ibi_pct AND state_ibi_max_us_dollars AND utility_ibi_pct AND utility_ibi_max_us_dollars AND federal_rebate_us_dollars_per_kw AND state_rebate_us_dollars_per_kw AND state_rebate_max_us_dollars AND utility_rebate_us_dollars_per_kw AND utility_rebate_max_us_dollars AND pbi_us_dollars_per_kwh AND pbi_max_us_dollars AND pbi_years AND pbi_system_max_kw AND can_net_meter AND can_wholesale AND can_export_beyond_site_load AND can_curtail AND useful_life_years', 'Scenario>Site>CHP': 'min_kw AND om_cost_us_dollars_per_kw AND om_cost_us_dollars_per_hr_per_kw_rated AND supplementary_firing_capital_cost_per_kw AND supplementary_firing_max_steam_ratio AND supplementary_firing_efficiency AND use_default_derate AND max_derate_factor AND derate_start_temp_degF AND derate_slope_pct_per_degF AND macrs_itc_reduction AND federal_itc_pct AND state_ibi_pct AND state_ibi_max_us_dollars AND utility_ibi_pct AND utility_ibi_max_us_dollars AND federal_rebate_us_dollars_per_kw AND state_rebate_us_dollars_per_kw AND state_rebate_max_us_dollars AND utility_rebate_us_dollars_per_kw AND utility_rebate_max_us_dollars AND pbi_us_dollars_per_kwh AND pbi_max_us_dollars AND pbi_years AND pbi_system_max_kw AND can_export_beyond_site_load AND can_curtail AND can_supply_steam_turbine', 'Scenario>Site>ColdTES': 'min_gal AND max_gal AND chilled_supply_water_temp_degF AND warmed_return_water_temp_degF AND internal_efficiency_pct AND soc_min_pct AND soc_init_pct AND installed_cost_us_dollars_per_gal AND thermal_decay_rate_fraction AND om_cost_us_dollars_per_gal AND macrs_option_years AND macrs_bonus_pct', 'Scenario>Site>HotTES': 'min_gal AND hot_supply_water_temp_degF AND cooled_return_water_temp_degF AND internal_efficiency_pct AND soc_min_pct AND soc_init_pct AND installed_cost_us_dollars_per_gal AND thermal_decay_rate_fraction AND om_cost_us_dollars_per_gal', 'Scenario>Site>Boiler': 'max_thermal_factor_on_peak_load AND can_supply_steam_turbine', 'Scenario>Site>ElectricChiller': 'max_thermal_factor_on_peak_load', 'Scenario>Site>AbsorptionChiller': 'min_ton AND chiller_elec_cop', 'Scenario>Site>NewBoiler': 'min_mmbtu_per_hr AND max_mmbtu_per_hr AND boiler_efficiency AND can_supply_steam_turbine AND installed_cost_us_dollars_per_mmbtu_per_hr AND om_cost_us_dollars_per_mmbtu_per_hr AND om_cost_us_dollars_per_mmbtu AND macrs_option_years AND macrs_bonus_pct', 'Scenario>Site>SteamTurbine': 'min_kw AND max_kw AND is_condensing AND outlet_steam_min_vapor_fraction AND can_net_meter AND can_wholesale AND can_export_beyond_site_load AND can_curtail AND macrs_option_years AND macrs_bonus_pct', 'Scenario>Site>GHP': 'require_ghp_purchase AND installed_cost_heatpump_us_dollars_per_ton AND heatpump_capacity_sizing_factor_on_peak_load AND installed_cost_ghx_us_dollars_per_ft AND installed_cost_building_hydronic_loop_us_dollars_per_sqft AND om_cost_us_dollars_per_sqft_year AND can_serve_dhw AND macrs_option_years AND macrs_bonus_pct AND macrs_itc_reduction AND federal_itc_pct AND state_ibi_pct AND state_ibi_max_us_dollars AND utility_ibi_pct AND utility_ibi_max_us_dollars AND federal_rebate_us_dollars_per_ton AND state_rebate_us_dollars_per_ton AND state_rebate_max_us_dollars AND utility_rebate_us_dollars_per_ton AND utility_rebate_max_us_dollars'}, 'Following inputs are invalid:': {'Scenario>Site>Boiler': 'existing_boiler_production_type AND emissions_factor_lb_PM_per_mmbtu'}, 'Deprecations': ['The sustain_hours output will be deprecated soon in favor of bau_sustained_time_steps.', 'outage_start_hour and outage_end_hour will be deprecated soon in favor of outage_start_time_step and outage_end_time_step', 'Avoided outage costs will be deprecated soon from the /results endpoint, but retained at the /resilience_stats endpoint']}\",\n",
       " 'error': 'Optimization exceeded timeout: 420 seconds. Please visit https://github.com/NREL/REopt-API-Analysis/discussions for support with common API usage issues. You can also email reopt@nrel.gov with your run_uuid (615ccdfb-e8b9-4f7b-bfcf-73d11ce2e2a6) for support.'}"
      ]
     },
     "execution_count": 11,
     "metadata": {},
     "output_type": "execute_result"
    }
   ],
   "source": [
    "api_response[\"messages\"]"
   ]
  },
  {
   "cell_type": "code",
   "execution_count": 16,
   "metadata": {},
   "outputs": [
    {
     "name": "stdout",
     "output_type": "stream",
     "text": [
      "year_one_emissions_lb_C02\n",
      "year_one_emissions_bau_lb_C02\n",
      "outdoor_air_temp_degF\n",
      "renewable_electricity_energy_pct\n",
      "Financial\n",
      "LoadProfile\n",
      "LoadProfileBoilerFuel\n",
      "LoadProfileChillerThermal\n",
      "ElectricTariff\n",
      "FuelTariff\n",
      "Storage\n",
      "Generator\n",
      "Wind\n",
      "CHP\n",
      "Boiler\n",
      "ElectricChiller\n",
      "AbsorptionChiller\n",
      "HotTES\n",
      "ColdTES\n",
      "NewBoiler\n",
      "SteamTurbine\n",
      "GHP\n",
      "PV\n"
     ]
    }
   ],
   "source": [
    "for k in api_response[\"outputs\"][\"Scenario\"][\"Site\"].keys():\n",
    "    print(k)"
   ]
  },
  {
   "cell_type": "markdown",
   "metadata": {},
   "source": [
    "## Save API response into a JSON file for later use"
   ]
  },
  {
   "cell_type": "code",
   "execution_count": 17,
   "metadata": {},
   "outputs": [],
   "source": [
    "response_save = api_response\n",
    "file_name_to_save = \"response_1\"\n",
    "with open(os.path.join(outputs_path, file_name_to_save + \".json\"), 'w') as fp:\n",
    "    json.dump(response_save, fp)"
   ]
  }
 ],
 "metadata": {
  "@webio": {
   "lastCommId": null,
   "lastKernelId": null
  },
  "kernelspec": {
   "display_name": "Python 3 (ipykernel)",
   "language": "python",
   "name": "python3"
  },
  "language_info": {
   "codemirror_mode": {
    "name": "ipython",
    "version": 3
   },
   "file_extension": ".py",
   "mimetype": "text/x-python",
   "name": "python",
   "nbconvert_exporter": "python",
   "pygments_lexer": "ipython3",
   "version": "3.9.7"
  },
  "latex_envs": {
   "LaTeX_envs_menu_present": true,
   "autoclose": false,
   "autocomplete": true,
   "bibliofile": "biblio.bib",
   "cite_by": "apalike",
   "current_citInitial": 1,
   "eqLabelWithNumbers": true,
   "eqNumInitial": 1,
   "hotkeys": {
    "equation": "Ctrl-E",
    "itemize": "Ctrl-I"
   },
   "labels_anchors": false,
   "latex_user_defs": false,
   "report_style_numbering": false,
   "user_envs_cfg": false
  }
 },
 "nbformat": 4,
 "nbformat_minor": 4
}
