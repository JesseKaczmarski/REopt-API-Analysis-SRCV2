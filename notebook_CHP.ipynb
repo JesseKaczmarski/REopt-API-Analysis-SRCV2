{
 "cells": [
  {
   "cell_type": "markdown",
   "metadata": {},
   "source": [
    "# Run REopt API located on localhost or NREL server"
   ]
  },
  {
   "cell_type": "markdown",
   "metadata": {},
   "source": [
    "## Initialization"
   ]
  },
  {
   "cell_type": "code",
   "execution_count": 1,
   "metadata": {},
   "outputs": [],
   "source": [
    "%matplotlib widget\n",
    "#%cd ..\n",
    "import pandas as pd\n",
    "import numpy as np\n",
    "import json\n",
    "import requests\n",
    "import matplotlib.pyplot as plt\n",
    "import copy\n",
    "import os\n",
    "from src.post_and_poll import get_api_results"
   ]
  },
  {
   "cell_type": "code",
   "execution_count": 2,
   "metadata": {},
   "outputs": [],
   "source": [
    "# following is not necessary but silences warnings:\n",
    "# InsecureRequestWarning: Unverified HTTPS request is being made to host 'developer.nrel.gov'. Adding certificate verification is strongly advised.\n",
    "import urllib3\n",
    "urllib3.disable_warnings()"
   ]
  },
  {
   "cell_type": "markdown",
   "metadata": {},
   "source": [
    "## Load a previously saved API response .json file instead of running REopt"
   ]
  },
  {
   "cell_type": "code",
   "execution_count": 2,
   "metadata": {},
   "outputs": [],
   "source": [
    "response_json = 'response_1'\n",
    "with open('saved_responses/' + response_json + '.json', 'rb') as handle:\n",
    "    api_response = json.load(handle)"
   ]
  },
  {
   "cell_type": "markdown",
   "metadata": {},
   "source": [
    "## Scenario Inputs (Post), if wanting to do a new API call"
   ]
  },
  {
   "cell_type": "code",
   "execution_count": 32,
   "metadata": {},
   "outputs": [],
   "source": [
    "post_1 = {\n",
    "  \"Scenario\": {\n",
    "    \"timeout_seconds\": 400,\n",
    "    \"optimality_tolerance_techs\": 0.001,\n",
    "    \"time_steps_per_hour\": 1,\n",
    "    \"Site\": {\n",
    "      \"latitude\": 37.78,\n",
    "      \"longitude\": -122.45,\n",
    "      \"LoadProfile\": {\n",
    "        \"doe_reference_name\": \"Hospital\",\n",
    "      },          \n",
    "      \"ElectricTariff\": {\n",
    "        \"net_metering_limit_kw\": 0.0,\n",
    "        \"interconnection_limit_kw\": 100000000.0,\n",
    "        \"urdb_label\": \"5e1676e95457a3f87673e3b0\"\n",
    "      },\n",
    "      \"PV\": {\n",
    "        \"min_kw\": 700.0,\n",
    "          \"max_kw\": 700.0,\n",
    "        \"existing_kw\": 300.0,\n",
    "      },\n",
    "      \"Storage\": {\n",
    "        \"max_kw\": 500.0,\n",
    "        \"max_kwh\": 1000.0\n",
    "      }\n",
    "    }\n",
    "  }\n",
    "}"
   ]
  },
  {
   "cell_type": "markdown",
   "metadata": {},
   "source": [
    "## Save the post to a .json file for sharing or future loading in"
   ]
  },
  {
   "cell_type": "code",
   "execution_count": 13,
   "metadata": {},
   "outputs": [],
   "source": [
    "# Convert python dictionary post into json and save to a .json file\n",
    "post_save = post_1\n",
    "with open(\"posts/\" + 'post_1.json', 'w') as fp:\n",
    "    json.dump(post_save, fp)"
   ]
  },
  {
   "cell_type": "markdown",
   "metadata": {},
   "source": [
    "## Or load in a saved .json file for the post"
   ]
  },
  {
   "cell_type": "code",
   "execution_count": 25,
   "metadata": {
    "scrolled": true
   },
   "outputs": [],
   "source": [
    "# Load a json into a python dictionary\n",
    "load_post = \"test_cold_POST\"\n",
    "with open(\"posts/\" + load_post + \".json\", 'r') as fp:\n",
    "    post_1 = json.load(fp)"
   ]
  },
  {
   "cell_type": "code",
   "execution_count": 26,
   "metadata": {},
   "outputs": [],
   "source": [
    "post_1[\"Scenario\"][\"Site\"][\"HotTES\"][\"min_gal\"] = 0.0\n",
    "post_1[\"Scenario\"][\"Site\"][\"HotTES\"][\"max_gal\"] = 0.0\n",
    "post_1[\"Scenario\"][\"Site\"][\"ColdTES\"][\"min_gal\"] = 0.0\n",
    "post_1[\"Scenario\"][\"Site\"][\"ColdTES\"][\"max_gal\"] = 0.0\n",
    "post_1[\"Scenario\"][\"Site\"][\"AbsorptionChiller\"][\"min_ton\"] = 0.0\n",
    "post_1[\"Scenario\"][\"Site\"][\"AbsorptionChiller\"][\"max_ton\"] = 0.0\n",
    "post_1[\"Scenario\"][\"Site\"][\"LoadProfileChillerThermal\"] = {}"
   ]
  },
  {
   "cell_type": "markdown",
   "metadata": {},
   "source": [
    "### Enter the root_url based on the \"location\" of the server that's hosting the API\n",
    "### and your API key from developer.nrel.gov"
   ]
  },
  {
   "cell_type": "code",
   "execution_count": 33,
   "metadata": {},
   "outputs": [],
   "source": [
    "# Enter the branch name here, only used for development/TestRanch and staging servers\n",
    "branch_name = \"ghp\"\n",
    "\n",
    "# Your API Key, only needed for production server\n",
    "API_KEY = \"uaz52dr5KTT5Qs5U72rS70hw3IYeHVEyAaDUFQvo\"\n",
    "\n",
    "# Local host, DO NOT use the first one if hosting API on Docker\n",
    "#root_url = \"http://localhost:8000/v1\"  # Cannot access host localhost from \"within Docker container\" as this is configured\n",
    "#root_url = \"http://host.docker.internal:8000/v1\"  # Must use this or below (gateway.docker.internal) for accessing host localhost\n",
    "root_url = \"http://gateway.docker.internal:8000/v1\"  # This one **might** work for both linux and Windows - how about WSL2?\n",
    "\n",
    "# Development/TestRanch server\n",
    "#root_url = \"https://\" + branch_name + \"-reopt-dev-api.its.nrel.gov/v1\"\n",
    "\n",
    "# Staging server\n",
    "#root_url = \"https://reopt-stage-api.its.nrel.gov/v1\"\n",
    "#root_url = \"https://\" + branch_name + \"-reopt-stage-api.its.nrel.gov/v1\"\n",
    "\n",
    "# Production server\n",
    "#root_url = \"https://developer.nrel.gov/api/reopt/v1\""
   ]
  },
  {
   "cell_type": "markdown",
   "metadata": {},
   "source": [
    "## POST and poll (period GET request) API to get a new result, if not loading in a previous response\n",
    "## ...This may take a while!"
   ]
  },
  {
   "cell_type": "code",
   "execution_count": 46,
   "metadata": {
    "scrolled": true
   },
   "outputs": [
    {
     "name": "stderr",
     "output_type": "stream",
     "text": [
      "main         INFO     Response OK from http://gateway.docker.internal:8000/v1/job/?api_key=uaz52dr5KTT5Qs5U72rS70hw3IYeHVEyAaDUFQvo.\n",
      "main         INFO     Polling http://gateway.docker.internal:8000/v1/job/d86cb9df-d247-4043-82a8-f039673b44fc/results/?api_key=uaz52dr5KTT5Qs5U72rS70hw3IYeHVEyAaDUFQvo for results with interval of 5s...\n",
      "main         INFO     Saved results to responses/results.json\n"
     ]
    }
   ],
   "source": [
    "api_response = get_api_results(post=post_1, \n",
    "                               API_KEY=API_KEY, \n",
    "                               api_url=root_url, \n",
    "                               results_file='responses/results.json', \n",
    "                               run_id=None)"
   ]
  },
  {
   "cell_type": "markdown",
   "metadata": {},
   "source": [
    "### If you get disconnected from the polling function but you think it ran, \n",
    "### copy the run_uuid from the log above to manually GET the results:"
   ]
  },
  {
   "cell_type": "code",
   "execution_count": 10,
   "metadata": {},
   "outputs": [],
   "source": [
    "run_uuid = \"10816148-36c0-4694-a96b-906416c0cc22\"\n",
    "results_url = root_url + '/v1/job/' + run_uuid + '/results/?api_key=' + API_KEY\n",
    "resp = requests.get(url=results_url, verify=False)\n",
    "api_response = json.loads(resp.text)"
   ]
  },
  {
   "cell_type": "markdown",
   "metadata": {},
   "source": [
    "## Get summary of results"
   ]
  },
  {
   "cell_type": "code",
   "execution_count": 47,
   "metadata": {},
   "outputs": [
    {
     "name": "stdout",
     "output_type": "stream",
     "text": [
      "NPV ($) =  875415.0\n",
      "Capital Cost, Net ($) =  942070.57\n",
      "PV size_kw  =  1000.0\n",
      "Storage size_kw  =  151.5564682965944\n",
      "Storage size_kwh  =  537.5745814544595\n"
     ]
    }
   ],
   "source": [
    "print(\"NPV ($) = \", api_response[\"outputs\"][\"Scenario\"][\"Site\"][\"Financial\"][\"npv_us_dollars\"])\n",
    "print(\"Capital Cost, Net ($) = \", api_response[\"outputs\"][\"Scenario\"][\"Site\"][\"Financial\"][\"net_capital_costs\"])\n",
    "tech_list = [\"PV\", \"Wind\", \"Storage\", \"CHP\", \"Generator\", \"HotTES\", \"ColdTES\", \"AbsorptionChiller\", \"GHP\", \"NewBoiler\", \"SteamTurbine\"]\n",
    "for tech in tech_list:\n",
    "    if tech in post_1[\"Scenario\"][\"Site\"].keys():\n",
    "        if tech == \"GHP\":\n",
    "            print(\"GHX Number of Boreholes = \", api_response[\"outputs\"][\"Scenario\"][\"Site\"][tech][\"ghpghx_chosen_outputs\"].get(\"number_of_boreholes\"))\n",
    "            print(\"GHP Heat Pump Capacity (ton) = \", api_response[\"outputs\"][\"Scenario\"][\"Site\"][tech][\"ghpghx_chosen_outputs\"].get(\"peak_combined_heatpump_thermal_ton\"))\n",
    "        # PV and Storage are considered if the POST does not explicitly make max_[size] == 0\n",
    "        if tech == \"PV\" and post_1[\"Scenario\"][\"Site\"][\"PV\"][\"max_kw\"] == 0:\n",
    "            pass\n",
    "        elif tech == \"Storage\" and (post_1[\"Scenario\"][\"Site\"][\"Storage\"][\"max_kw\"] == 0 or post_1[\"Scenario\"][\"Site\"][\"Storage\"][\"max_kwh\"] == 0):\n",
    "            pass\n",
    "        else:\n",
    "            for size_name_value in [(key, val) for key, val in api_response[\"outputs\"][\"Scenario\"][\"Site\"][tech].items() if \"size\" in key]:\n",
    "                print(tech + \" \" + size_name_value[0], \" = \", size_name_value[1])\n",
    "    elif tech in [\"PV\", \"Storage\"]:\n",
    "        for size_name_value in [(key, val) for key, val in api_response[\"outputs\"][\"Scenario\"][\"Site\"][tech].items() if \"size\" in key]:\n",
    "                print(tech + \" \" + size_name_value[0], \" = \", size_name_value[1])                "
   ]
  },
  {
   "cell_type": "code",
   "execution_count": 49,
   "metadata": {},
   "outputs": [
    {
     "name": "stdout",
     "output_type": "stream",
     "text": [
      "46918.0\n",
      "4800.0\n"
     ]
    }
   ],
   "source": [
    "print(api_response[\"outputs\"][\"Scenario\"][\"Site\"][\"Financial\"][\"total_om_costs_bau_us_dollars\"])\n",
    "print(api_response[\"outputs\"][\"Scenario\"][\"Site\"][\"Financial\"][\"year_one_om_costs_before_tax_bau_us_dollars\"])"
   ]
  },
  {
   "cell_type": "markdown",
   "metadata": {},
   "source": [
    "## Do some custom response/results data processing"
   ]
  },
  {
   "cell_type": "code",
   "execution_count": null,
   "metadata": {},
   "outputs": [],
   "source": []
  },
  {
   "cell_type": "code",
   "execution_count": null,
   "metadata": {},
   "outputs": [],
   "source": []
  },
  {
   "cell_type": "markdown",
   "metadata": {},
   "source": [
    "## Save API response and scenario data into a .pickle file for later use"
   ]
  },
  {
   "cell_type": "code",
   "execution_count": 27,
   "metadata": {},
   "outputs": [],
   "source": [
    "response_save = api_response\n",
    "file_name_to_save = \"response_1\"\n",
    "with open(\"saved_responses/\" + file_name_to_save + \".json\", 'w') as fp:\n",
    "    json.dump(response_save, fp)"
   ]
  },
  {
   "cell_type": "code",
   "execution_count": null,
   "metadata": {},
   "outputs": [],
   "source": []
  }
 ],
 "metadata": {
  "@webio": {
   "lastCommId": null,
   "lastKernelId": null
  },
  "kernelspec": {
   "display_name": "Python 3 (ipykernel)",
   "language": "python",
   "name": "python3"
  },
  "language_info": {
   "codemirror_mode": {
    "name": "ipython",
    "version": 3
   },
   "file_extension": ".py",
   "mimetype": "text/x-python",
   "name": "python",
   "nbconvert_exporter": "python",
   "pygments_lexer": "ipython3",
   "version": "3.9.6"
  },
  "latex_envs": {
   "LaTeX_envs_menu_present": true,
   "autoclose": false,
   "autocomplete": true,
   "bibliofile": "biblio.bib",
   "cite_by": "apalike",
   "current_citInitial": 1,
   "eqLabelWithNumbers": true,
   "eqNumInitial": 1,
   "hotkeys": {
    "equation": "Ctrl-E",
    "itemize": "Ctrl-I"
   },
   "labels_anchors": false,
   "latex_user_defs": false,
   "report_style_numbering": false,
   "user_envs_cfg": false
  }
 },
 "nbformat": 4,
 "nbformat_minor": 4
}
