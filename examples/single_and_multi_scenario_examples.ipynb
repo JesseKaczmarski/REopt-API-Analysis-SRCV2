{
 "cells": [
  {
   "cell_type": "markdown",
   "id": "blocked-ozone",
   "metadata": {},
   "source": [
    "# Single Scenario"
   ]
  },
  {
   "cell_type": "code",
   "execution_count": 1,
   "id": "understood-equality",
   "metadata": {},
   "outputs": [],
   "source": [
    "import json  # needed to load in our scenario\n",
    "import os  # to handle file paths across operating systems\n",
    "from src.post_and_poll import get_api_results\n",
    "API_KEY = 'DEMO_KEY'  # REPLACE WITH YOUR API KEY"
   ]
  },
  {
   "cell_type": "code",
   "execution_count": 2,
   "id": "robust-appreciation",
   "metadata": {},
   "outputs": [],
   "source": [
    "# following is not necessary but silences warnings:\n",
    "# InsecureRequestWarning: Unverified HTTPS request is being made to host 'developer.nrel.gov'. Adding certificate verification is strongly advised.\n",
    "import urllib3\n",
    "urllib3.disable_warnings()"
   ]
  },
  {
   "cell_type": "markdown",
   "id": "scenic-lesbian",
   "metadata": {},
   "source": [
    "`get_api_results` POST's your JSON to the API `job` endpoint, which provides a `run_uuid` if the input is valid, and then polls the `results` endpoint using the `run_uuid` until the results come back with a status other than `Optimizing...`.\n",
    "\n",
    "`get_api_results` also saves the results to the `results_file`.\n",
    "\n",
    "A log file is also created in the current working directory."
   ]
  },
  {
   "cell_type": "code",
   "execution_count": 3,
   "id": "behavioral-engine",
   "metadata": {},
   "outputs": [],
   "source": [
    "post = json.load(\n",
    "    open(\n",
    "        os.path.join(\"inputs\", \"Scenario_POST1.json\"), \n",
    "    \"r\")\n",
    ")"
   ]
  },
  {
   "cell_type": "code",
   "execution_count": 4,
   "id": "suffering-nursery",
   "metadata": {},
   "outputs": [
    {
     "name": "stderr",
     "output_type": "stream",
     "text": [
      "main         INFO     Response OK from http://127.0.0.1:8000/v1/job/?api_key=DEMO_KEY.\n",
      "main         INFO     Polling http://127.0.0.1:8000/v1/job/b2bd0eb4-654d-4366-8dbd-85fff00cdca9/results/?api_key=DEMO_KEY for results with interval of 5s...\n",
      "main         INFO     Saved results to outputs/my_results.json\n"
     ]
    }
   ],
   "source": [
    "results = get_api_results(\n",
    "    post=post,\n",
    "    API_KEY=API_KEY,\n",
    "    api_url=\"https://developer.nrel.gov/api/reopt/v1\",\n",
    "    results_file=os.path.join(\"outputs\", \"my_results.json\")\n",
    ")"
   ]
  },
  {
   "cell_type": "markdown",
   "id": "effective-sterling",
   "metadata": {},
   "source": [
    "(Note the above logging shows a local host URL, which was used to run this notebook without requiring an API_KEY)"
   ]
  },
  {
   "cell_type": "markdown",
   "id": "square-illness",
   "metadata": {},
   "source": [
    "### Here are some results keys examples:"
   ]
  },
  {
   "cell_type": "code",
   "execution_count": 5,
   "id": "southern-recognition",
   "metadata": {},
   "outputs": [
    {
     "data": {
      "text/plain": [
       "dict_keys(['outputs', 'inputs', 'messages'])"
      ]
     },
     "execution_count": 5,
     "metadata": {},
     "output_type": "execute_result"
    }
   ],
   "source": [
    "results.keys()"
   ]
  },
  {
   "cell_type": "code",
   "execution_count": 6,
   "id": "buried-presentation",
   "metadata": {},
   "outputs": [
    {
     "data": {
      "text/plain": [
       "'optimal'"
      ]
     },
     "execution_count": 6,
     "metadata": {},
     "output_type": "execute_result"
    }
   ],
   "source": [
    "results[\"outputs\"][\"Scenario\"][\"status\"]"
   ]
  },
  {
   "cell_type": "code",
   "execution_count": 7,
   "id": "dominant-stock",
   "metadata": {},
   "outputs": [
    {
     "name": "stdout",
     "output_type": "stream",
     "text": [
      "year_one_emissions_lb_C02\n",
      "year_one_emissions_bau_lb_C02\n",
      "outdoor_air_temp_degF\n",
      "renewable_electricity_energy_pct\n",
      "Financial\n",
      "LoadProfile\n",
      "LoadProfileBoilerFuel\n",
      "LoadProfileChillerThermal\n",
      "ElectricTariff\n",
      "FuelTariff\n",
      "Storage\n",
      "Generator\n",
      "Wind\n",
      "CHP\n",
      "Boiler\n",
      "ElectricChiller\n",
      "AbsorptionChiller\n",
      "HotTES\n",
      "ColdTES\n",
      "PV\n"
     ]
    }
   ],
   "source": [
    "for k in results[\"outputs\"][\"Scenario\"][\"Site\"].keys():\n",
    "    print(k)"
   ]
  },
  {
   "cell_type": "code",
   "execution_count": 8,
   "id": "abandoned-degree",
   "metadata": {},
   "outputs": [
    {
     "name": "stdout",
     "output_type": "stream",
     "text": [
      "pv_name\n",
      "size_kw\n",
      "station_latitude\n",
      "station_longitude\n",
      "station_distance_km\n",
      "average_yearly_energy_produced_kwh\n",
      "average_yearly_energy_produced_bau_kwh\n",
      "average_yearly_energy_exported_kwh\n",
      "year_one_energy_produced_kwh\n",
      "year_one_energy_produced_bau_kwh\n",
      "year_one_power_production_series_kw\n",
      "year_one_to_battery_series_kw\n",
      "year_one_to_load_series_kw\n",
      "year_one_to_grid_series_kw\n",
      "year_one_curtailed_production_series_kw\n",
      "existing_pv_om_cost_us_dollars\n",
      "lcoe_us_dollars_per_kwh\n"
     ]
    }
   ],
   "source": [
    "for k in results[\"outputs\"][\"Scenario\"][\"Site\"][\"PV\"].keys():\n",
    "    print(k)"
   ]
  },
  {
   "cell_type": "markdown",
   "id": "noble-clinic",
   "metadata": {},
   "source": [
    "# Multi-scenario\n",
    "Multiple scenarios can be defined in a CSV file with rows for each scenrario and columns for the inputs. `all_api_inputs.csv` provides a template for all of the possible header values (input keys).\n",
    "\n",
    "Let's take a look at the example `scenarios.csv`:"
   ]
  },
  {
   "cell_type": "code",
   "execution_count": 9,
   "id": "vertical-heritage",
   "metadata": {},
   "outputs": [
    {
     "data": {
      "text/html": [
       "<div>\n",
       "<style scoped>\n",
       "    .dataframe tbody tr th:only-of-type {\n",
       "        vertical-align: middle;\n",
       "    }\n",
       "\n",
       "    .dataframe tbody tr th {\n",
       "        vertical-align: top;\n",
       "    }\n",
       "\n",
       "    .dataframe thead th {\n",
       "        text-align: right;\n",
       "    }\n",
       "</style>\n",
       "<table border=\"1\" class=\"dataframe\">\n",
       "  <thead>\n",
       "    <tr style=\"text-align: right;\">\n",
       "      <th></th>\n",
       "      <th>site_number</th>\n",
       "      <th>description</th>\n",
       "      <th>latitude</th>\n",
       "      <th>longitude</th>\n",
       "      <th>PV|max_kw</th>\n",
       "      <th>urdb_label</th>\n",
       "      <th>load_file</th>\n",
       "      <th>Wind|max_kw</th>\n",
       "    </tr>\n",
       "  </thead>\n",
       "  <tbody>\n",
       "    <tr>\n",
       "      <th>0</th>\n",
       "      <td>1</td>\n",
       "      <td>site3-No-PV</td>\n",
       "      <td>34.1404</td>\n",
       "      <td>-118.2764</td>\n",
       "      <td>0.0</td>\n",
       "      <td>5a3821035457a32645d2dd80</td>\n",
       "      <td>site3_8760_loads_kw.csv</td>\n",
       "      <td>0</td>\n",
       "    </tr>\n",
       "    <tr>\n",
       "      <th>1</th>\n",
       "      <td>2</td>\n",
       "      <td>site3-With-PV</td>\n",
       "      <td>34.1404</td>\n",
       "      <td>-118.2764</td>\n",
       "      <td>NaN</td>\n",
       "      <td>5a3821035457a32645d2dd80</td>\n",
       "      <td>site3_8760_loads_kw.csv</td>\n",
       "      <td>0</td>\n",
       "    </tr>\n",
       "  </tbody>\n",
       "</table>\n",
       "</div>"
      ],
      "text/plain": [
       "   site_number    description  latitude  longitude  PV|max_kw  \\\n",
       "0            1    site3-No-PV   34.1404  -118.2764        0.0   \n",
       "1            2  site3-With-PV   34.1404  -118.2764        NaN   \n",
       "\n",
       "                 urdb_label                load_file  Wind|max_kw  \n",
       "0  5a3821035457a32645d2dd80  site3_8760_loads_kw.csv            0  \n",
       "1  5a3821035457a32645d2dd80  site3_8760_loads_kw.csv            0  "
      ]
     },
     "execution_count": 9,
     "metadata": {},
     "output_type": "execute_result"
    }
   ],
   "source": [
    "import pandas as pd  # only used to show the csv file\n",
    "\n",
    "df = pd.read_csv(os.path.join(\"inputs\", \"scenarios.csv\"))\n",
    "\n",
    "df.head()"
   ]
  },
  {
   "cell_type": "markdown",
   "id": "disciplinary-alfred",
   "metadata": {},
   "source": [
    "We have two Scenarios:\n",
    "1. One with no PV nor Wind evaluated (by setting their `max_kw`s to zero)\n",
    "2. One with PV and no Wind evaluated\n",
    "\n",
    "Both Scenarios have the same location, the same electricity tariff (set via the `urdb_label`), and use the same custom load profile - which is passed in via another csv file."
   ]
  },
  {
   "cell_type": "code",
   "execution_count": 10,
   "id": "democratic-breed",
   "metadata": {},
   "outputs": [],
   "source": [
    "\"\"\"\n",
    "Here are some convenience definitions for using the Multi-scenario capabilities\n",
    "\"\"\"\n",
    "##############################################################################################################\n",
    "inputs_path = os.path.join(\".\", 'inputs')\n",
    "outputs_path = os.path.join(\".\", 'outputs')\n",
    "output_template = os.path.join(outputs_path, 'results_template.csv')\n",
    "output_file = os.path.join(outputs_path, 'results_summary.csv')\n",
    "##############################################################################################################"
   ]
  },
  {
   "cell_type": "markdown",
   "id": "suspended-windsor",
   "metadata": {},
   "source": [
    "Let's start by converting the `scenarios.csv` into a list of POST's that we can send to the API:"
   ]
  },
  {
   "cell_type": "code",
   "execution_count": 11,
   "id": "empirical-composer",
   "metadata": {},
   "outputs": [],
   "source": [
    "from src.multi_site_inputs_parser import multi_site_csv_parser\n",
    "\n",
    "path_to_inputs = os.path.join(inputs_path, 'scenarios.csv')\n",
    "\n",
    "list_of_posts = multi_site_csv_parser(\n",
    "    path_to_inputs, \n",
    "    api_url='https://developer.nrel.gov/api/reopt/v1', \n",
    "    API_KEY=API_KEY\n",
    ")"
   ]
  },
  {
   "cell_type": "markdown",
   "id": "identified-first",
   "metadata": {},
   "source": [
    "Now we can collect all of the results using the `get_api_results` function from the Single Scenario example:"
   ]
  },
  {
   "cell_type": "code",
   "execution_count": 12,
   "id": "flexible-sellers",
   "metadata": {},
   "outputs": [
    {
     "name": "stderr",
     "output_type": "stream",
     "text": [
      "main         INFO     Response OK from http://127.0.0.1:8000/v1/job/?api_key=DEMO_KEY.\n",
      "main         INFO     Polling http://127.0.0.1:8000/v1/job/13aab880-0305-4fc9-9ce8-4047c96456a9/results/?api_key=DEMO_KEY for results with interval of 5s...\n",
      "main         INFO     Saved results to ./outputs/site3-No-PV.json\n",
      "main         INFO     Response OK from http://127.0.0.1:8000/v1/job/?api_key=DEMO_KEY.\n",
      "main         INFO     Polling http://127.0.0.1:8000/v1/job/150de35c-febb-4a38-9ad0-ddca99d4873d/results/?api_key=DEMO_KEY for results with interval of 5s...\n",
      "main         INFO     Saved results to ./outputs/site3-With-PV.json\n"
     ]
    }
   ],
   "source": [
    "responses = []\n",
    "\n",
    "for post in list_of_posts:\n",
    "    responses.append(\n",
    "        get_api_results(\n",
    "            post, \n",
    "            results_file=os.path.join(outputs_path, post['Scenario']['description'] + '.json'),\n",
    "            api_url=\"https://developer.nrel.gov/api/reopt/v1\", \n",
    "            API_KEY=API_KEY\n",
    "        )\n",
    "    )"
   ]
  },
  {
   "cell_type": "markdown",
   "id": "moved-midnight",
   "metadata": {},
   "source": [
    "Note that we used the `Scenario.description` to define the results file name. The `Scenario.description` was defined in the `scenarios.csv`."
   ]
  },
  {
   "cell_type": "markdown",
   "id": "realistic-removal",
   "metadata": {},
   "source": [
    "### Summarizing multiple scenario results\n",
    "\n",
    "There are two options for making a summary of multiple scenarios' resutls:\n",
    "1. Write to a csv using a template with column headers for desired summary keys (scalar values only)\n",
    "2. Write all inputs, outputs, and dispatch to an Excel spreadsheet\n"
   ]
  },
  {
   "cell_type": "markdown",
   "id": "italian-history",
   "metadata": {},
   "source": [
    "#### Option 1: Use a template CSV to collect certain results"
   ]
  },
  {
   "cell_type": "code",
   "execution_count": 13,
   "id": "saved-relaxation",
   "metadata": {},
   "outputs": [],
   "source": [
    "from src.parse_api_responses_to_csv import parse_responses_to_csv_with_template\n",
    "\n",
    "parse_responses_to_csv_with_template(\n",
    "    csv_template=output_template, \n",
    "    responses=responses, \n",
    "    output_csv=output_file, \n",
    "    input_csv=path_to_inputs,\n",
    "    n_custom_columns=2\n",
    ")"
   ]
  },
  {
   "cell_type": "markdown",
   "id": "mobile-space",
   "metadata": {},
   "source": [
    "#### Option 2: Write all results out to an Excel file"
   ]
  },
  {
   "cell_type": "code",
   "execution_count": 14,
   "id": "nervous-grass",
   "metadata": {},
   "outputs": [
    {
     "name": "stderr",
     "output_type": "stream",
     "text": [
      "/Users/nlaws/projects/reopt/REopt-API-Analysis/env/lib/python3.6/site-packages/openpyxl/workbook/child.py:99: UserWarning: Title is more than 31 characters. Some applications may not be able to read the file\n",
      "  warnings.warn(\"Title is more than 31 characters. Some applications may not be able to read the file\")\n"
     ]
    }
   ],
   "source": [
    "from src.parse_api_responses_to_excel import parse_api_responses_to_excel\n",
    "\n",
    "parse_api_responses_to_excel(responses, spreadsheet='results_summary.xlsx')"
   ]
  },
  {
   "cell_type": "code",
   "execution_count": null,
   "id": "indonesian-birthday",
   "metadata": {},
   "outputs": [],
   "source": []
  }
 ],
 "metadata": {
  "kernelspec": {
   "display_name": "Python 3",
   "language": "python",
   "name": "python3"
  },
  "language_info": {
   "codemirror_mode": {
    "name": "ipython",
    "version": 3
   },
   "file_extension": ".py",
   "mimetype": "text/x-python",
   "name": "python",
   "nbconvert_exporter": "python",
   "pygments_lexer": "ipython3",
   "version": "3.6.8"
  }
 },
 "nbformat": 4,
 "nbformat_minor": 5
}
