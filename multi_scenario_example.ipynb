{
 "cells": [
  {
   "cell_type": "markdown",
   "id": "blocked-ozone",
   "metadata": {},
   "source": [
    "# Multi-scenario\n",
    "Multiple scenarios can be defined in a CSV file with rows for each scenrario and columns for the inputs. `all_api_inputs.csv` provides a template for all of the possible header values (input keys).\n",
    "\n",
    "Let's take a look at the example `scenarios.csv`:"
   ]
  },
  {
   "cell_type": "code",
   "execution_count": 7,
   "id": "understood-equality",
   "metadata": {},
   "outputs": [],
   "source": [
    "import json  # needed to load in our scenario\n",
    "import os  # to handle file paths across operating systems\n",
    "import pandas as pd  # only used to show the csv file\n",
    "from src.post_and_poll import get_api_results\n",
    "API_KEY = 'DEMO_KEY'  # REPLACE WITH YOUR API KEY"
   ]
  },
  {
   "cell_type": "code",
   "execution_count": 8,
   "id": "robust-appreciation",
   "metadata": {},
   "outputs": [],
   "source": [
    "# following is not necessary but silences warnings:\n",
    "# InsecureRequestWarning: Unverified HTTPS request is being made to host 'developer.nrel.gov'. Adding certificate verification is strongly advised.\n",
    "import urllib3\n",
    "urllib3.disable_warnings()"
   ]
  },
  {
   "cell_type": "code",
   "execution_count": 9,
   "id": "vertical-heritage",
   "metadata": {},
   "outputs": [
    {
     "data": {
      "text/html": [
       "<div>\n",
       "<style scoped>\n",
       "    .dataframe tbody tr th:only-of-type {\n",
       "        vertical-align: middle;\n",
       "    }\n",
       "\n",
       "    .dataframe tbody tr th {\n",
       "        vertical-align: top;\n",
       "    }\n",
       "\n",
       "    .dataframe thead th {\n",
       "        text-align: right;\n",
       "    }\n",
       "</style>\n",
       "<table border=\"1\" class=\"dataframe\">\n",
       "  <thead>\n",
       "    <tr style=\"text-align: right;\">\n",
       "      <th></th>\n",
       "      <th>site_number</th>\n",
       "      <th>description</th>\n",
       "      <th>latitude</th>\n",
       "      <th>longitude</th>\n",
       "      <th>PV|max_kw</th>\n",
       "      <th>urdb_label</th>\n",
       "      <th>load_file</th>\n",
       "      <th>Wind|max_kw</th>\n",
       "    </tr>\n",
       "  </thead>\n",
       "  <tbody>\n",
       "    <tr>\n",
       "      <th>0</th>\n",
       "      <td>1</td>\n",
       "      <td>site3-No-PV</td>\n",
       "      <td>34.1404</td>\n",
       "      <td>-118.2764</td>\n",
       "      <td>0.0</td>\n",
       "      <td>5a3821035457a32645d2dd80</td>\n",
       "      <td>site3_8760_loads_kw.csv</td>\n",
       "      <td>0</td>\n",
       "    </tr>\n",
       "    <tr>\n",
       "      <th>1</th>\n",
       "      <td>2</td>\n",
       "      <td>site3-With-PV</td>\n",
       "      <td>34.1404</td>\n",
       "      <td>-118.2764</td>\n",
       "      <td>NaN</td>\n",
       "      <td>5a3821035457a32645d2dd80</td>\n",
       "      <td>site3_8760_loads_kw.csv</td>\n",
       "      <td>0</td>\n",
       "    </tr>\n",
       "  </tbody>\n",
       "</table>\n",
       "</div>"
      ],
      "text/plain": [
       "   site_number    description  latitude  longitude  PV|max_kw  \\\n",
       "0            1    site3-No-PV   34.1404  -118.2764        0.0   \n",
       "1            2  site3-With-PV   34.1404  -118.2764        NaN   \n",
       "\n",
       "                 urdb_label                load_file  Wind|max_kw  \n",
       "0  5a3821035457a32645d2dd80  site3_8760_loads_kw.csv            0  \n",
       "1  5a3821035457a32645d2dd80  site3_8760_loads_kw.csv            0  "
      ]
     },
     "execution_count": 9,
     "metadata": {},
     "output_type": "execute_result"
    }
   ],
   "source": [
    "df = pd.read_csv(os.path.join(\"inputs\", \"scenarios.csv\"))\n",
    "\n",
    "df.head()"
   ]
  },
  {
   "cell_type": "markdown",
   "id": "disciplinary-alfred",
   "metadata": {},
   "source": [
    "We have two Scenarios:\n",
    "1. One with no PV nor Wind evaluated (by setting their `max_kw`s to zero)\n",
    "2. One with PV and no Wind evaluated\n",
    "\n",
    "Both Scenarios have the same location, the same electricity tariff (set via the `urdb_label`), and use the same custom load profile - which is passed in via another csv file."
   ]
  },
  {
   "cell_type": "code",
   "execution_count": 10,
   "id": "democratic-breed",
   "metadata": {},
   "outputs": [],
   "source": [
    "\"\"\"\n",
    "Here are some convenience definitions for using the Multi-scenario capabilities\n",
    "\"\"\"\n",
    "##############################################################################################################\n",
    "inputs_path = os.path.join(\".\", 'inputs')\n",
    "outputs_path = os.path.join(\".\", 'outputs')\n",
    "output_template = os.path.join(outputs_path, 'results_template.csv')\n",
    "output_file = os.path.join(outputs_path, 'results_summary.csv')\n",
    "output_file_spreadsheet_template = os.path.join(outputs_path, 'template.xlsx')\n",
    "output_file_spreadsheet = os.path.join(outputs_path, 'results_summary.xlsx')\n",
    "##############################################################################################################"
   ]
  },
  {
   "cell_type": "markdown",
   "id": "suspended-windsor",
   "metadata": {},
   "source": [
    "Let's start by converting the `scenarios.csv` into a list of POST's that we can send to the API:"
   ]
  },
  {
   "cell_type": "code",
   "execution_count": 11,
   "id": "empirical-composer",
   "metadata": {},
   "outputs": [],
   "source": [
    "from src.multi_site_inputs_parser import multi_site_csv_parser\n",
    "\n",
    "path_to_inputs = os.path.join(inputs_path, 'scenarios.csv')\n",
    "\n",
    "list_of_posts = multi_site_csv_parser(\n",
    "    path_to_inputs, \n",
    "    api_url='https://developer.nrel.gov/api/reopt/v1', \n",
    "    API_KEY=API_KEY\n",
    ")"
   ]
  },
  {
   "cell_type": "markdown",
   "id": "identified-first",
   "metadata": {},
   "source": [
    "Now we can collect all of the results using the `get_api_results` function from the Single Scenario example:"
   ]
  },
  {
   "cell_type": "code",
   "execution_count": 12,
   "id": "flexible-sellers",
   "metadata": {},
   "outputs": [
    {
     "name": "stderr",
     "output_type": "stream",
     "text": [
      "main         INFO     Response OK from https://developer.nrel.gov/api/reopt/v1/job/?api_key=uiMp56xYMT983T2OikI0RrEKAyAAEDpZHzuC8nTC.\n",
      "main         INFO     Polling https://developer.nrel.gov/api/reopt/v1/job/d0e630b9-4f7e-4ac3-8f01-a42016fcaf12/results/?api_key=uiMp56xYMT983T2OikI0RrEKAyAAEDpZHzuC8nTC for results with interval of 5s...\n",
      "main         INFO     Saved results to ./outputs/site3-No-PV.json\n",
      "main         INFO     Response OK from https://developer.nrel.gov/api/reopt/v1/job/?api_key=uiMp56xYMT983T2OikI0RrEKAyAAEDpZHzuC8nTC.\n",
      "main         INFO     Polling https://developer.nrel.gov/api/reopt/v1/job/dff2ba4d-4ef6-4dbd-b4c8-0a4c1d42682b/results/?api_key=uiMp56xYMT983T2OikI0RrEKAyAAEDpZHzuC8nTC for results with interval of 5s...\n",
      "main         INFO     Saved results to ./outputs/site3-With-PV.json\n"
     ]
    }
   ],
   "source": [
    "responses = []\n",
    "\n",
    "for post in list_of_posts:\n",
    "    responses.append(\n",
    "        get_api_results(\n",
    "            post, \n",
    "            results_file=os.path.join(outputs_path, post['Scenario']['description'] + '.json'),\n",
    "            api_url=\"https://developer.nrel.gov/api/reopt/v1\", \n",
    "            API_KEY=API_KEY\n",
    "        )\n",
    "    )"
   ]
  },
  {
   "cell_type": "markdown",
   "id": "moved-midnight",
   "metadata": {},
   "source": [
    "Note that we used the `Scenario.description` to define the results file name. The `Scenario.description` was defined in the `scenarios.csv`."
   ]
  },
  {
   "cell_type": "markdown",
   "id": "realistic-removal",
   "metadata": {},
   "source": [
    "### Summarizing multiple scenario results\n",
    "\n",
    "There are two options for making a summary of multiple scenarios' resutls:\n",
    "1. Write to a csv using a template with column headers for desired summary keys (scalar values only)\n",
    "2. Write all inputs, outputs, and dispatch to an Excel spreadsheet\n"
   ]
  },
  {
   "cell_type": "markdown",
   "id": "italian-history",
   "metadata": {},
   "source": [
    "#### Option 1: Use a template CSV to collect certain results"
   ]
  },
  {
   "cell_type": "code",
   "execution_count": 7,
   "id": "saved-relaxation",
   "metadata": {},
   "outputs": [],
   "source": [
    "from src.parse_api_responses_to_csv import parse_responses_to_csv_with_template\n",
    "\n",
    "parse_responses_to_csv_with_template(\n",
    "    csv_template=output_template, \n",
    "    responses=responses, \n",
    "    output_csv=output_file, \n",
    "    input_csv=path_to_inputs,\n",
    "    n_custom_columns=2\n",
    ")"
   ]
  },
  {
   "cell_type": "markdown",
   "id": "mobile-space",
   "metadata": {},
   "source": [
    "#### Option 2: Write all results out to an Excel file"
   ]
  },
  {
   "cell_type": "code",
   "execution_count": 8,
   "id": "b83c174b-494b-4680-910f-c70df33b0f1d",
   "metadata": {},
   "outputs": [
    {
     "data": {
      "text/plain": [
       "'/home/jovyan/work'"
      ]
     },
     "execution_count": 8,
     "metadata": {},
     "output_type": "execute_result"
    }
   ],
   "source": [
    "os.getcwd()"
   ]
  },
  {
   "cell_type": "code",
   "execution_count": 9,
   "id": "nervous-grass",
   "metadata": {},
   "outputs": [
    {
     "ename": "FileNotFoundError",
     "evalue": "[Errno 2] No such file or directory: './outputs/template.xlsx'",
     "output_type": "error",
     "traceback": [
      "\u001b[0;31m---------------------------------------------------------------------------\u001b[0m",
      "\u001b[0;31mFileNotFoundError\u001b[0m                         Traceback (most recent call last)",
      "\u001b[0;32m/tmp/ipykernel_4284/1816251644.py\u001b[0m in \u001b[0;36m<module>\u001b[0;34m\u001b[0m\n\u001b[1;32m      1\u001b[0m \u001b[0;32mfrom\u001b[0m \u001b[0msrc\u001b[0m\u001b[0;34m.\u001b[0m\u001b[0mparse_api_responses_to_excel\u001b[0m \u001b[0;32mimport\u001b[0m \u001b[0mparse_api_responses_to_excel\u001b[0m\u001b[0;34m\u001b[0m\u001b[0;34m\u001b[0m\u001b[0m\n\u001b[1;32m      2\u001b[0m \u001b[0;34m\u001b[0m\u001b[0m\n\u001b[0;32m----> 3\u001b[0;31m \u001b[0mparse_api_responses_to_excel\u001b[0m\u001b[0;34m(\u001b[0m\u001b[0mresponses\u001b[0m\u001b[0;34m,\u001b[0m \u001b[0mdir_path\u001b[0m\u001b[0;34m=\u001b[0m\u001b[0moutputs_path\u001b[0m\u001b[0;34m,\u001b[0m \u001b[0mspreadsheet\u001b[0m\u001b[0;34m=\u001b[0m\u001b[0moutput_file_spreadsheet\u001b[0m\u001b[0;34m)\u001b[0m\u001b[0;34m\u001b[0m\u001b[0;34m\u001b[0m\u001b[0m\n\u001b[0m",
      "\u001b[0;32m~/work/src/parse_api_responses_to_excel.py\u001b[0m in \u001b[0;36mparse_api_responses_to_excel\u001b[0;34m(responses, dir_path, spreadsheet)\u001b[0m\n\u001b[1;32m     71\u001b[0m     \u001b[0;34m:\u001b[0m\u001b[0;32mreturn\u001b[0m\u001b[0;34m:\u001b[0m \u001b[0;32mNone\u001b[0m\u001b[0;34m\u001b[0m\u001b[0;34m\u001b[0m\u001b[0m\n\u001b[1;32m     72\u001b[0m     \"\"\"\n\u001b[0;32m---> 73\u001b[0;31m     \u001b[0mwb\u001b[0m \u001b[0;34m=\u001b[0m \u001b[0mxl\u001b[0m\u001b[0;34m.\u001b[0m\u001b[0mload_workbook\u001b[0m\u001b[0;34m(\u001b[0m\u001b[0mdir_path\u001b[0m \u001b[0;34m+\u001b[0m \u001b[0;34m'/template.xlsx'\u001b[0m\u001b[0;34m)\u001b[0m\u001b[0;34m\u001b[0m\u001b[0;34m\u001b[0m\u001b[0m\n\u001b[0m\u001b[1;32m     74\u001b[0m     \u001b[0mws_sites\u001b[0m \u001b[0;34m=\u001b[0m \u001b[0mwb\u001b[0m\u001b[0;34m.\u001b[0m\u001b[0mactive\u001b[0m\u001b[0;34m\u001b[0m\u001b[0;34m\u001b[0m\u001b[0m\n\u001b[1;32m     75\u001b[0m \u001b[0;34m\u001b[0m\u001b[0m\n",
      "\u001b[0;32m/opt/conda/lib/python3.9/site-packages/openpyxl/reader/excel.py\u001b[0m in \u001b[0;36mload_workbook\u001b[0;34m(filename, read_only, keep_vba, data_only, keep_links)\u001b[0m\n\u001b[1;32m    313\u001b[0m \u001b[0;34m\u001b[0m\u001b[0m\n\u001b[1;32m    314\u001b[0m     \"\"\"\n\u001b[0;32m--> 315\u001b[0;31m     reader = ExcelReader(filename, read_only, keep_vba,\n\u001b[0m\u001b[1;32m    316\u001b[0m                         data_only, keep_links)\n\u001b[1;32m    317\u001b[0m     \u001b[0mreader\u001b[0m\u001b[0;34m.\u001b[0m\u001b[0mread\u001b[0m\u001b[0;34m(\u001b[0m\u001b[0;34m)\u001b[0m\u001b[0;34m\u001b[0m\u001b[0;34m\u001b[0m\u001b[0m\n",
      "\u001b[0;32m/opt/conda/lib/python3.9/site-packages/openpyxl/reader/excel.py\u001b[0m in \u001b[0;36m__init__\u001b[0;34m(self, fn, read_only, keep_vba, data_only, keep_links)\u001b[0m\n\u001b[1;32m    122\u001b[0m     def __init__(self,  fn, read_only=False, keep_vba=KEEP_VBA,\n\u001b[1;32m    123\u001b[0m                   data_only=False, keep_links=True):\n\u001b[0;32m--> 124\u001b[0;31m         \u001b[0mself\u001b[0m\u001b[0;34m.\u001b[0m\u001b[0marchive\u001b[0m \u001b[0;34m=\u001b[0m \u001b[0m_validate_archive\u001b[0m\u001b[0;34m(\u001b[0m\u001b[0mfn\u001b[0m\u001b[0;34m)\u001b[0m\u001b[0;34m\u001b[0m\u001b[0;34m\u001b[0m\u001b[0m\n\u001b[0m\u001b[1;32m    125\u001b[0m         \u001b[0mself\u001b[0m\u001b[0;34m.\u001b[0m\u001b[0mvalid_files\u001b[0m \u001b[0;34m=\u001b[0m \u001b[0mself\u001b[0m\u001b[0;34m.\u001b[0m\u001b[0marchive\u001b[0m\u001b[0;34m.\u001b[0m\u001b[0mnamelist\u001b[0m\u001b[0;34m(\u001b[0m\u001b[0;34m)\u001b[0m\u001b[0;34m\u001b[0m\u001b[0;34m\u001b[0m\u001b[0m\n\u001b[1;32m    126\u001b[0m         \u001b[0mself\u001b[0m\u001b[0;34m.\u001b[0m\u001b[0mread_only\u001b[0m \u001b[0;34m=\u001b[0m \u001b[0mread_only\u001b[0m\u001b[0;34m\u001b[0m\u001b[0;34m\u001b[0m\u001b[0m\n",
      "\u001b[0;32m/opt/conda/lib/python3.9/site-packages/openpyxl/reader/excel.py\u001b[0m in \u001b[0;36m_validate_archive\u001b[0;34m(filename)\u001b[0m\n\u001b[1;32m     94\u001b[0m             \u001b[0;32mraise\u001b[0m \u001b[0mInvalidFileException\u001b[0m\u001b[0;34m(\u001b[0m\u001b[0mmsg\u001b[0m\u001b[0;34m)\u001b[0m\u001b[0;34m\u001b[0m\u001b[0;34m\u001b[0m\u001b[0m\n\u001b[1;32m     95\u001b[0m \u001b[0;34m\u001b[0m\u001b[0m\n\u001b[0;32m---> 96\u001b[0;31m     \u001b[0marchive\u001b[0m \u001b[0;34m=\u001b[0m \u001b[0mZipFile\u001b[0m\u001b[0;34m(\u001b[0m\u001b[0mfilename\u001b[0m\u001b[0;34m,\u001b[0m \u001b[0;34m'r'\u001b[0m\u001b[0;34m)\u001b[0m\u001b[0;34m\u001b[0m\u001b[0;34m\u001b[0m\u001b[0m\n\u001b[0m\u001b[1;32m     97\u001b[0m     \u001b[0;32mreturn\u001b[0m \u001b[0marchive\u001b[0m\u001b[0;34m\u001b[0m\u001b[0;34m\u001b[0m\u001b[0m\n\u001b[1;32m     98\u001b[0m \u001b[0;34m\u001b[0m\u001b[0m\n",
      "\u001b[0;32m/opt/conda/lib/python3.9/zipfile.py\u001b[0m in \u001b[0;36m__init__\u001b[0;34m(self, file, mode, compression, allowZip64, compresslevel, strict_timestamps)\u001b[0m\n\u001b[1;32m   1237\u001b[0m             \u001b[0;32mwhile\u001b[0m \u001b[0;32mTrue\u001b[0m\u001b[0;34m:\u001b[0m\u001b[0;34m\u001b[0m\u001b[0;34m\u001b[0m\u001b[0m\n\u001b[1;32m   1238\u001b[0m                 \u001b[0;32mtry\u001b[0m\u001b[0;34m:\u001b[0m\u001b[0;34m\u001b[0m\u001b[0;34m\u001b[0m\u001b[0m\n\u001b[0;32m-> 1239\u001b[0;31m                     \u001b[0mself\u001b[0m\u001b[0;34m.\u001b[0m\u001b[0mfp\u001b[0m \u001b[0;34m=\u001b[0m \u001b[0mio\u001b[0m\u001b[0;34m.\u001b[0m\u001b[0mopen\u001b[0m\u001b[0;34m(\u001b[0m\u001b[0mfile\u001b[0m\u001b[0;34m,\u001b[0m \u001b[0mfilemode\u001b[0m\u001b[0;34m)\u001b[0m\u001b[0;34m\u001b[0m\u001b[0;34m\u001b[0m\u001b[0m\n\u001b[0m\u001b[1;32m   1240\u001b[0m                 \u001b[0;32mexcept\u001b[0m \u001b[0mOSError\u001b[0m\u001b[0;34m:\u001b[0m\u001b[0;34m\u001b[0m\u001b[0;34m\u001b[0m\u001b[0m\n\u001b[1;32m   1241\u001b[0m                     \u001b[0;32mif\u001b[0m \u001b[0mfilemode\u001b[0m \u001b[0;32min\u001b[0m \u001b[0mmodeDict\u001b[0m\u001b[0;34m:\u001b[0m\u001b[0;34m\u001b[0m\u001b[0;34m\u001b[0m\u001b[0m\n",
      "\u001b[0;31mFileNotFoundError\u001b[0m: [Errno 2] No such file or directory: './outputs/template.xlsx'"
     ]
    }
   ],
   "source": [
    "from src.parse_api_responses_to_excel import parse_api_responses_to_excel\n",
    "\n",
    "parse_api_responses_to_excel(responses, template=output_file_spreadsheet_template, spreadsheet=output_file_spreadsheet)"
   ]
  },
  {
   "cell_type": "code",
   "execution_count": null,
   "id": "indonesian-birthday",
   "metadata": {},
   "outputs": [],
   "source": []
  }
 ],
 "metadata": {
  "kernelspec": {
   "display_name": "Python 3 (ipykernel)",
   "language": "python",
   "name": "python3"
  },
  "language_info": {
   "codemirror_mode": {
    "name": "ipython",
    "version": 3
   },
   "file_extension": ".py",
   "mimetype": "text/x-python",
   "name": "python",
   "nbconvert_exporter": "python",
   "pygments_lexer": "ipython3",
   "version": "3.9.6"
  }
 },
 "nbformat": 4,
 "nbformat_minor": 5
}
